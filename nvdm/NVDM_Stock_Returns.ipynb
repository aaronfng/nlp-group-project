{
 "cells": [
  {
   "cell_type": "code",
   "execution_count": 37,
   "metadata": {},
   "outputs": [],
   "source": [
    "import pandas as pd\n",
    "import os\n",
    "import numpy as np\n",
    "from matplotlib import pyplot as pp\n",
    "from pathlib import Path\n",
    "\n",
    "# from sklearn.feature_extraction.text import TfidfVectorizer, CountVectorizer\n",
    "# from sklearn.decomposition import LatentDirichletAllocation\n",
    "from sklearn.preprocessing import StandardScaler\n",
    "import statsmodels.api as sm"
   ]
  },
  {
   "cell_type": "code",
   "execution_count": 41,
   "metadata": {},
   "outputs": [],
   "source": [
    "import pickle\n",
    "from collections import Counter\n",
    "\n",
    "from nltk.stem import PorterStemmer\n",
    "from models import nvdm\n",
    "import torch"
   ]
  },
  {
   "cell_type": "markdown",
   "metadata": {},
   "source": [
    "# Business Description Data\n",
    "## SP500 Data"
   ]
  },
  {
   "cell_type": "code",
   "execution_count": 2,
   "metadata": {},
   "outputs": [
    {
     "data": {
      "text/plain": [
       "['FIS_Information Technology.txt',\n",
       " 'MKC_Consumer Staples.txt',\n",
       " 'COF_Financials.txt',\n",
       " 'MTB_Financials.txt',\n",
       " 'BRK.B_Financials.txt']"
      ]
     },
     "execution_count": 2,
     "metadata": {},
     "output_type": "execute_result"
    }
   ],
   "source": [
    "sp500_dir = Path('../SP500')\n",
    "filenames = os.listdir(sp500_dir)\n",
    "filenames[:5]"
   ]
  },
  {
   "cell_type": "code",
   "execution_count": 3,
   "metadata": {},
   "outputs": [],
   "source": [
    "# Load data\n",
    "ticker_sp50 = []\n",
    "sector_sp50 = []\n",
    "bds_sp50 = []\n",
    "for fn in filenames:\n",
    "    fn_first = fn.split('.txt')[0]\n",
    "    ticker, sector = fn_first.split('_')\n",
    "\n",
    "    path = os.path.join(sp500_dir, fn)\n",
    "    with open(path, 'r', encoding=\"utf8\") as f:\n",
    "        f_text = f.read()\n",
    "    \n",
    "    ticker_sp50.append(ticker)\n",
    "    sector_sp50.append(sector)\n",
    "    bds_sp50.append(f_text)"
   ]
  },
  {
   "cell_type": "code",
   "execution_count": 4,
   "metadata": {},
   "outputs": [],
   "source": [
    "# Basic sanity checks\n",
    "\n",
    "# Just one file is named wrong\n",
    "if ticker_sp50[19] == \"VF Corporation\":\n",
    "    ticker_sp50[19] = \"VFC\"\n",
    "assert all(s.isupper() for s in ticker_sp50)\n",
    "assert all(s.title() == s for s in sector_sp50)\n",
    "assert all (len(bd) > 0 for bd in bds_sp50)"
   ]
  },
  {
   "cell_type": "markdown",
   "metadata": {},
   "source": [
    "## Larger Dataset - excluding SP500"
   ]
  },
  {
   "cell_type": "code",
   "execution_count": 5,
   "metadata": {},
   "outputs": [],
   "source": [
    "# NOTE: we use the cleaned version of bds_1.txt.\n",
    "# Format is the same except the business descriptions are preprocessed.\n",
    "\n",
    "f = open(\"./data/bds_1_clean.txt\", \"r\", encoding=\"utf8\")\n",
    "f_lines = f.readlines()\n",
    "f.close()\n",
    "\n",
    "company_ids_all = f_lines[0::2]\n",
    "company_descriptions_all = f_lines[1::2]\n",
    "company_tickers = [x.split(':')[0] for x in company_ids_all]\n",
    "removeSP = np.in1d(np.array(company_tickers), list(ticker_sp50))\n",
    "\n",
    "bds_all = []\n",
    "ticker_all = []\n",
    "for i, d in enumerate(company_descriptions_all):\n",
    "    if (len(d) > 3000) and not removeSP[i]:\n",
    "        bds_all.append(d)\n",
    "        ticker_all.append(company_ids_all[i])"
   ]
  },
  {
   "cell_type": "markdown",
   "metadata": {},
   "source": [
    "# Get Returns Data"
   ]
  },
  {
   "cell_type": "code",
   "execution_count": 6,
   "metadata": {},
   "outputs": [
    {
     "name": "stderr",
     "output_type": "stream",
     "text": [
      "/home/aaron/Documents/ML_UCL_MSc/NLP_COMP0087/venv-comp0087/lib/python3.9/site-packages/IPython/core/interactiveshell.py:3165: DtypeWarning: Columns (1,4) have mixed types.Specify dtype option on import or set low_memory=False.\n",
      "  has_raised = await self.run_ast_nodes(code_ast.body, cell_name,\n"
     ]
    }
   ],
   "source": [
    "start_d = np.datetime64('2018-01-01')\n",
    "end_d = np.datetime64('2020-01-01')\n",
    "business_ds = pd.date_range(start_d, end_d, freq='B')\n",
    "\n",
    "price_data = pd.read_csv('./data/Price.csv')\n",
    "\n",
    "select_these = np.in1d(price_data.tic.values, list(ticker_sp50))\n",
    "price_sp50 = price_data.loc[select_these, ['tic', 'datadate', 'prccd']]\n",
    "price_sp50['datadate'] = pd.to_datetime(price_sp50['datadate'], format='%Y%m%d')\n",
    "price_sp50 = pd.pivot_table(price_sp50,index='datadate',columns='tic',values='prccd')\n",
    "price_sp50 = price_sp50.ffill(limit=5)\n",
    "price_sp50 = price_sp50.reindex(business_ds)\n",
    "price_sp50 = price_sp50.dropna(axis=0)\n",
    "\n",
    "returns_sp50 = np.log(price_sp50) - np.log(price_sp50.shift(1))\n",
    "returns_sp50 = returns_sp50.dropna(axis=0)"
   ]
  },
  {
   "cell_type": "markdown",
   "metadata": {},
   "source": [
    "# Explaining Returns with NVDM\n",
    "## Get the pretrained NVDM torch models"
   ]
  },
  {
   "cell_type": "code",
   "execution_count": 7,
   "metadata": {},
   "outputs": [],
   "source": [
    "# Load vocabulary object.\n",
    "with open(\"./vocabs/vocab_bds_1_clean_10000.pickle\", \"rb\") as f:\n",
    "    vocab = pickle.load(f)"
   ]
  },
  {
   "cell_type": "code",
   "execution_count": 8,
   "metadata": {},
   "outputs": [],
   "source": [
    "# Load pretrained NVDM models for different k.\n",
    "\n",
    "MODELSAVE_PATH = \"./modelsaves\"\n",
    "\n",
    "models_k = dict()\n",
    "k_values = []\n",
    "\n",
    "hidden_size = 500\n",
    "\n",
    "for filename in os.listdir(MODELSAVE_PATH):\n",
    "    \n",
    "    num_topics = filename.split(\"_\")[1][1:]\n",
    "    num_topics = int(num_topics)\n",
    "    k_values.append(num_topics)\n",
    "    \n",
    "    model = nvdm.NVDM(len(vocab), hidden_size, num_topics, 1, \"cpu\")\n",
    "    model.load_state_dict(torch.load(os.path.join(MODELSAVE_PATH, filename), map_location=\"cpu\"))\n",
    "    model.eval()\n",
    "    models_k[num_topics] = model\n",
    "    \n",
    "    # Hidden size was hard-coded in NVDM_Experiments, sanity check\n",
    "    assert model.n_hidden == hidden_size"
   ]
  },
  {
   "cell_type": "code",
   "execution_count": 9,
   "metadata": {},
   "outputs": [
    {
     "data": {
      "text/plain": [
       "NVDM(\n",
       "  (embed_bow): EmbeddingBag(10001, 10001, mode=sum)\n",
       "  (encoder): Sequential(\n",
       "    (0): Linear(in_features=10001, out_features=500, bias=True)\n",
       "    (1): Tanh()\n",
       "    (2): Linear(in_features=500, out_features=500, bias=True)\n",
       "    (3): Tanh()\n",
       "  )\n",
       "  (mu): Linear(in_features=500, out_features=10, bias=True)\n",
       "  (log_sigma): Linear(in_features=500, out_features=10, bias=True)\n",
       "  (decoder): Sequential(\n",
       "    (0): Linear(in_features=10, out_features=10001, bias=True)\n",
       "  )\n",
       ")"
      ]
     },
     "execution_count": 9,
     "metadata": {},
     "output_type": "execute_result"
    }
   ],
   "source": [
    "models_k[10]"
   ]
  },
  {
   "cell_type": "markdown",
   "metadata": {},
   "source": [
    "## Get Features for S&P 500\n",
    "More manual work needed for NVDM (no fit/transform() functions)"
   ]
  },
  {
   "cell_type": "code",
   "execution_count": 34,
   "metadata": {},
   "outputs": [],
   "source": [
    "def nvdm_transform(model, bow):\n",
    "    # replacing this_lda.transform(tf_sp50)\n",
    "    vocab_topic_mat = model.decoder[0].weight.data.detach().clone().numpy()\n",
    "    doc_topic_mat = bow @ vocab_topic_mat\n",
    "    return doc_topic_mat"
   ]
  },
  {
   "cell_type": "code",
   "execution_count": 17,
   "metadata": {},
   "outputs": [
    {
     "data": {
      "text/plain": [
       "(503, 10001)"
      ]
     },
     "execution_count": 17,
     "metadata": {},
     "output_type": "execute_result"
    }
   ],
   "source": [
    "# Make the BOW matrix manually, using the existing Vocab's token-to-index mapping.\n",
    "bow_sp50 = np.zeros((len(bds_sp50), len(vocab)))\n",
    "\n",
    "for d, bd in enumerate(bds_sp50):\n",
    "    token_idxs = vocab.lookup_indices(bd.split(\" \"))\n",
    "    word_counts = Counter(token_idxs)\n",
    "    for w, count in word_counts.items():\n",
    "        bow_sp50[d, w] = count   \n",
    "bow_sp50.shape"
   ]
  },
  {
   "cell_type": "code",
   "execution_count": 20,
   "metadata": {},
   "outputs": [
    {
     "data": {
      "text/plain": [
       "(10001, 10)"
      ]
     },
     "execution_count": 20,
     "metadata": {},
     "output_type": "execute_result"
    }
   ],
   "source": [
    "# Get the learned semantic embeddings from a model (e.g. K=10)\n",
    "vocab_topic_mat = models_k[10].decoder[0].weight.data.detach().clone().numpy()\n",
    "vocab_topic_mat.shape"
   ]
  },
  {
   "cell_type": "code",
   "execution_count": 30,
   "metadata": {},
   "outputs": [
    {
     "data": {
      "text/plain": [
       "(503, 10)"
      ]
     },
     "execution_count": 30,
     "metadata": {},
     "output_type": "execute_result"
    }
   ],
   "source": [
    "# This should represent each document as a linear combination of its word embeddings.\n",
    "# i.e. for each document, sum its word embeddings.\n",
    "doc_topic_mat = bow_sp50 @ vocab_topic_mat\n",
    "doc_topic_mat.shape"
   ]
  },
  {
   "cell_type": "code",
   "execution_count": 31,
   "metadata": {},
   "outputs": [],
   "source": [
    "# Continue the same way as LDA...\n",
    "features_sp50 = doc_topic_mat\n",
    "features_sp50_df = pd.DataFrame(index=ticker_sp50, data=features_sp50)"
   ]
  },
  {
   "cell_type": "markdown",
   "metadata": {},
   "source": [
    "## Loop Over Dates and Perform OLS Regression"
   ]
  },
  {
   "cell_type": "code",
   "execution_count": 32,
   "metadata": {},
   "outputs": [],
   "source": [
    "all_dates = returns_sp50.index\n",
    "max_f = 19\n",
    "adj_r2_features = []\n",
    "\n",
    "for dd in all_dates:\n",
    "    reg_data = returns_sp50.loc[[dd]].transpose().join(features_sp50_df.loc[:, 0:max_f]).dropna(axis=0).values\n",
    "    y = reg_data[:, 0]\n",
    "    X = reg_data[:, 1:]\n",
    "\n",
    "    std_scaler = StandardScaler()\n",
    "    X = std_scaler.fit_transform(X)\n",
    "\n",
    "    X = sm.add_constant(X, prepend=False)\n",
    "    ols_model = sm.OLS(y, X)\n",
    "    res = ols_model.fit()\n",
    "    adj_r2_features.append(res.rsquared_adj)"
   ]
  },
  {
   "cell_type": "code",
   "execution_count": 33,
   "metadata": {},
   "outputs": [
    {
     "data": {
      "text/plain": [
       "[<matplotlib.lines.Line2D at 0x7fca4b179310>]"
      ]
     },
     "execution_count": 33,
     "metadata": {},
     "output_type": "execute_result"
    },
    {
     "data": {
      "image/png": "[encoded data removed]",
      "text/plain": [
       "<Figure size 432x288 with 1 Axes>"
      ]
     },
     "metadata": {
      "needs_background": "light"
     },
     "output_type": "display_data"
    }
   ],
   "source": [
    "pp.plot(all_dates, adj_r2_features)"
   ]
  },
  {
   "cell_type": "markdown",
   "metadata": {},
   "source": [
    "## Comparing Different K"
   ]
  },
  {
   "cell_type": "markdown",
   "metadata": {},
   "source": [
    "Next, calculate average regression adjusted $R^2$ for different K"
   ]
  },
  {
   "cell_type": "code",
   "execution_count": 49,
   "metadata": {},
   "outputs": [
    {
     "name": "stdout",
     "output_type": "stream",
     "text": [
      "Running for k = 5\n",
      "Running for k = 10\n",
      "Running for k = 15\n",
      "Running for k = 20\n",
      "Running for k = 25\n",
      "Running for k = 30\n",
      "Running for k = 35\n",
      "Running for k = 40\n",
      "Running for k = 50\n"
     ]
    }
   ],
   "source": [
    "tf_sp50 = bow_sp50\n",
    "all_ks = list(sorted(models_k.keys()))\n",
    "\n",
    "all_adj_r2 = []\n",
    "for k in all_ks:\n",
    "    print(f'Running for k = {k}')\n",
    "    \n",
    "    features_sp50 = nvdm_transform(models_k[k], bow_sp50)\n",
    "    features_sp50_df = pd.DataFrame(index=ticker_sp50, data=features_sp50)\n",
    "    adj_r2_dates = []\n",
    "    for dd in all_dates:\n",
    "        reg_data = returns_sp50.loc[[dd]].transpose().join(features_sp50_df.loc[:, 0:max_f]).dropna(axis=0).values\n",
    "        y = reg_data[:, 0]\n",
    "        X = reg_data[:, 1:]\n",
    "\n",
    "        std_scaler = StandardScaler()\n",
    "        X = std_scaler.fit_transform(X)\n",
    "\n",
    "        X = sm.add_constant(X, prepend=False)\n",
    "        ols_model = sm.OLS(y, X)\n",
    "        res = ols_model.fit()\n",
    "        adj_r2_dates.append(res.rsquared_adj)\n",
    "    \n",
    "    all_adj_r2.append(np.mean(adj_r2_dates))"
   ]
  },
  {
   "cell_type": "code",
   "execution_count": 50,
   "metadata": {},
   "outputs": [
    {
     "data": {
      "text/plain": [
       "[0.030530778103586124,\n",
       " 0.06320451238728353,\n",
       " 0.07822433347157239,\n",
       " 0.091585397296027,\n",
       " 0.08465441657147543,\n",
       " 0.0943596933661213,\n",
       " 0.08346258939772003,\n",
       " 0.0818278308987715,\n",
       " 0.08128913123714297]"
      ]
     },
     "execution_count": 50,
     "metadata": {},
     "output_type": "execute_result"
    }
   ],
   "source": [
    "all_adj_r2"
   ]
  },
  {
   "cell_type": "code",
   "execution_count": null,
   "metadata": {},
   "outputs": [],
   "source": []
  }
 ],
 "metadata": {
  "kernelspec": {
   "display_name": "Python 3",
   "language": "python",
   "name": "python3"
  },
  "language_info": {
   "codemirror_mode": {
    "name": "ipython",
    "version": 3
   },
   "file_extension": ".py",
   "mimetype": "text/x-python",
   "name": "python",
   "nbconvert_exporter": "python",
   "pygments_lexer": "ipython3",
   "version": "3.9.4"
  }
 },
 "nbformat": 4,
 "nbformat_minor": 4
}
