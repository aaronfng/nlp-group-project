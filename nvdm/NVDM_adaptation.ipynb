{
 "cells": [
  {
   "cell_type": "markdown",
   "id": "rapid-highlight",
   "metadata": {},
   "source": [
    "# NVDM\n",
    "\n",
    "Re-adapt NVDM code for unified notebook.\n",
    "The main difference is using sklearn's CountVectorizer like the other models.\n",
    "Unlike the original notebook, which passes in business descriptions as variable-length sequences,\n",
    "we directly pass in bag-of-words (generated using the count-vectorizer).\n",
    "This results in much faster training as well."
   ]
  },
  {
   "cell_type": "code",
   "execution_count": 1,
   "id": "dense-serial",
   "metadata": {},
   "outputs": [],
   "source": [
    "import os\n",
    "import string\n",
    "import pathlib\n",
    "import pickle\n",
    "from timeit import default_timer as timer\n",
    "from datetime import timedelta"
   ]
  },
  {
   "cell_type": "code",
   "execution_count": 2,
   "id": "sound-curtis",
   "metadata": {},
   "outputs": [],
   "source": [
    "import numpy as np\n",
    "import matplotlib.pyplot as plt"
   ]
  },
  {
   "cell_type": "code",
   "execution_count": 3,
   "id": "documentary-county",
   "metadata": {},
   "outputs": [],
   "source": [
    "from sklearn.feature_extraction.text import TfidfVectorizer, CountVectorizer\n",
    "from sklearn.decomposition import LatentDirichletAllocation\n",
    "from sklearn.cluster import KMeans"
   ]
  },
  {
   "cell_type": "code",
   "execution_count": 4,
   "id": "standard-courage",
   "metadata": {},
   "outputs": [],
   "source": [
    "from nltk.corpus import stopwords\n",
    "from nltk.stem import WordNetLemmatizer"
   ]
  },
  {
   "cell_type": "code",
   "execution_count": 32,
   "id": "composed-immigration",
   "metadata": {},
   "outputs": [
    {
     "name": "stdout",
     "output_type": "stream",
     "text": [
      "Using device cuda\n"
     ]
    }
   ],
   "source": [
    "# PyTorch stuff\n",
    "import torch\n",
    "from torch.utils.data import Dataset, DataLoader\n",
    "from torch import nn\n",
    "import torch.nn.functional as F\n",
    "\n",
    "# Autoselect target device.\n",
    "device = torch.device(\"cuda\" if torch.cuda.is_available() else \"cpu\")\n",
    "print(f\"Using device {device}\")"
   ]
  },
  {
   "cell_type": "code",
   "execution_count": 6,
   "id": "devoted-astrology",
   "metadata": {},
   "outputs": [],
   "source": [
    "%load_ext autoreload\n",
    "%autoreload 2\n",
    "\n",
    "from models import nvdm"
   ]
  },
  {
   "cell_type": "markdown",
   "id": "stunning-creek",
   "metadata": {},
   "source": [
    "## Helper Functions\n",
    "\n",
    "In this section, we provide helper function definitions."
   ]
  },
  {
   "cell_type": "markdown",
   "id": "closing-password",
   "metadata": {},
   "source": [
    "### Preprocessing"
   ]
  },
  {
   "cell_type": "code",
   "execution_count": 7,
   "id": "close-vegetable",
   "metadata": {},
   "outputs": [],
   "source": [
    "# Instance of Lemmatizer\n",
    "LEMMATIZER = WordNetLemmatizer()\n",
    "STOPWORDS = stopwords.words('english')\n",
    "\n",
    "def preprocess_text(text):\n",
    "    \"\"\" Process a single line of text. \"\"\"\n",
    "\n",
    "    # Strip trailing characters if any (e.g. newline)\n",
    "    text_new = text.strip()\n",
    "    \n",
    "    # Remove puncuation\n",
    "    text_new = ''.join(ch for ch in text_new if ch not in string.punctuation)\n",
    "\n",
    "    # Lower case\n",
    "    text_new = text_new.lower()\n",
    "    \n",
    "    # Tokenise by space\n",
    "    tokens = text_new.split()\n",
    "    \n",
    "    # Remove stopwords\n",
    "    tokens = [word for word in tokens if word not in STOPWORDS]\n",
    "\n",
    "    # Lemmatise each word\n",
    "    tokens = [LEMMATIZER.lemmatize(word) for word in tokens]\n",
    "    \n",
    "    text_new = ' '.join(tokens)\n",
    "\n",
    "    return text_new"
   ]
  },
  {
   "cell_type": "markdown",
   "id": "dress-fiction",
   "metadata": {},
   "source": [
    "### Model Definitions\n",
    "\n",
    "We experimented with three types of model:\n",
    "\n",
    "- K-Means\n",
    "- Latent Dirichlet Allocation (LDA)\n",
    "- Neural Variational Document Modelling (NVDM)\n",
    "\n",
    "For this demo, we only show the \"best\" model for each type. Please refer to the report and model-specific notebooks for details on hyperparameter selection."
   ]
  },
  {
   "cell_type": "code",
   "execution_count": 8,
   "id": "transparent-portsmouth",
   "metadata": {},
   "outputs": [],
   "source": [
    "class Model:\n",
    "    \"\"\" Base class for clustering models.\n",
    "    \n",
    "    Basically a wrapper for a variety of models.\n",
    "    \"\"\"\n",
    "    def __init__(self):\n",
    "        pass\n",
    "    \n",
    "    def fit(self, X):\n",
    "        \"\"\" Train the model. \"\"\"\n",
    "        raise NotImplementedError()\n",
    "    \n",
    "    def transform(self, X):\n",
    "        \"\"\" Apply model to new data. \"\"\"\n",
    "        raise NotImplementedError()\n",
    "    \n",
    "    @property\n",
    "    def topic_vocab_matrix(self):\n",
    "        \"\"\" Each model should be able to return a topic-vocab matrix\n",
    "        containing a score (e.g. probability) of a word in the vocabulary\n",
    "        occuring in the k^th topic. \"\"\"\n",
    "        pass\n",
    "\n",
    "class NVDMModel(Model):\n",
    "    \"\"\" PyTorch NVDM model.\n",
    "    \n",
    "    Loads a pretrained model from disk.\n",
    "    \"\"\"\n",
    "    def __init__(self):\n",
    "        pass\n",
    "    \n",
    "    def fit(self, X):\n",
    "        \"\"\" We don't train the model here because it takes too long. \"\"\"\n",
    "        pass\n",
    "    \n",
    "    def transform(self, X):\n",
    "        pass\n",
    "    \n",
    "    @property\n",
    "    def topic_vocab_matrix(self):\n",
    "        \"\"\" Returns the learned semantic embeddings of each word. \"\"\"\n",
    "        decoder = self.model.decoder[0]\n",
    "        weights = decoder.weight.data.detach().clone().numpy()\n",
    "        return weights.T"
   ]
  },
  {
   "cell_type": "markdown",
   "id": "hybrid-twenty",
   "metadata": {},
   "source": [
    "### Evaluation\n",
    "\n",
    "We provide functions for evaluation below.\n",
    "The _topic coherence_ metric is used. TODO perplexity for LDA and NVDM."
   ]
  },
  {
   "cell_type": "code",
   "execution_count": 9,
   "id": "brilliant-lunch",
   "metadata": {},
   "outputs": [],
   "source": [
    "# Topic coherence.\n",
    "def umass_score(tf):\n",
    "    \"\"\" Compute topic coherence using UMass metric.\n",
    "    \n",
    "    Ref: http://qpleple.com/topic-coherence-to-evaluate-topic-models/\n",
    "    \n",
    "    tf: term-frequency matrix for each document.\n",
    "        Each i^th row is the BOW representation of the i^th document.\n",
    "    \"\"\"\n",
    "    \n",
    "    # D(wi): count of documents containing the word wi (i.e. df)\n",
    "    Dwi = np.array(np.sum(tf > 0, axis=0))[0]\n",
    "\n",
    "    W_bin = np.zeros_like(tf)\n",
    "    W_bin[tf > 0] = 1\n",
    "    \n",
    "    # D(wi, wj): count of documents containing both words wi and wj\n",
    "    Dwi_wj = W_bin.T @ W_bin\n",
    "\n",
    "    score_umass = np.log((Dwi_wj + 1)/ Dwi)\n",
    "    \n",
    "    return score_umass\n",
    "\n",
    "def topic_coherence(topic_vocab, n_top_words, pair_score):\n",
    "    \"\"\" Compute the topic coherence of each topic,\n",
    "    given a learned topic-vocabulary matrix, the number of top words to use\n",
    "    and a matrix of pairwise scores (e.g. umass_score output)\n",
    "    \n",
    "    topic_vocab: dimensions (number of topics, vocabulary size).\n",
    "    model.components_ for LDA, and the \"semantic embedding\" matrix in the decoder for NVDM.\n",
    "    \n",
    "    pair_score: matrix of scores (e.g. UMass)\n",
    "    \"\"\"\n",
    "    coherences = []\n",
    "    for topic_idx, topic in enumerate(topic_vocab):\n",
    "        top_features_ind = topic.argsort()[:-n_top_words - 1:-1]\n",
    "        coh = 0\n",
    "        for i in range(len(top_features_ind)):\n",
    "            for j in range(i):\n",
    "                coh += pair_score[top_features_ind[i], top_features_ind[j]]\n",
    "        coherences.append(coh)\n",
    "    return coherences\n",
    "\n",
    "def plot_top_words(topic_vocab, feature_names, n_top_words, title):\n",
    "    \"\"\" Given a topic-vocabulary matrix containing scores\n",
    "    (e.g. probabilities, higher the better),\n",
    "    plot the top words as a frequency bar-graph for each topic.\n",
    "    \n",
    "    e.g. set topic_vocab=model._components for LDA.\n",
    "    \"\"\"\n",
    "    K = len(topic_vocab)\n",
    "    n_x = 5\n",
    "    n_y = int(np.ceil(K / n_x))\n",
    "    fig, axes = plt.subplots(n_y, n_x, figsize=(2.5 * n_x, 4 * n_y), sharex=True)\n",
    "    axes = axes.flatten()\n",
    "    for topic_idx, topic in enumerate(topic_vocab):\n",
    "        top_features_ind = topic.argsort()[:-n_top_words - 1:-1]\n",
    "        top_features = [feature_names[i] for i in top_features_ind]\n",
    "        weights = topic[top_features_ind]\n",
    "\n",
    "        ax = axes[topic_idx]\n",
    "        ax.barh(top_features, weights, height=0.7)\n",
    "        ax.set_title(f'Topic {topic_idx +1}',\n",
    "                     fontdict={'fontsize': 14})\n",
    "        ax.invert_yaxis()\n",
    "        ax.tick_params(axis='both', which='major', labelsize=12)\n",
    "        for i in 'top right left'.split():\n",
    "            ax.spines[i].set_visible(False)\n",
    "        fig.suptitle(title, fontsize=20)\n",
    "\n",
    "    # plt.subplots_adjust(top=0.90, bottom=0.05, wspace=0.90, hspace=0.3)\n",
    "    \n",
    "    fig.tight_layout()\n",
    "    plt.show()"
   ]
  },
  {
   "cell_type": "markdown",
   "id": "pressing-midnight",
   "metadata": {},
   "source": [
    "### Data-Loading\n",
    "\n",
    "Functions for loading all business description datasets (S&P500 and bds1)."
   ]
  },
  {
   "cell_type": "code",
   "execution_count": 10,
   "id": "orange-workstation",
   "metadata": {},
   "outputs": [],
   "source": [
    "def load_sp500(path, preprocess=False):\n",
    "    \"\"\" Load S&P500 data from the per-company text files in the supplied directory path.\n",
    "    \n",
    "    Within the directory, each file is named \"<ticker>_<sector>.txt\".\n",
    "    Each contains the business description (BD) of the company.\n",
    "    \n",
    "    If preprocess is True, the preprocess the business descriptions at the same time.\n",
    "    \"\"\"\n",
    "    filenames = os.listdir(path)\n",
    "\n",
    "    tickers = []\n",
    "    sectors = []\n",
    "    bds = []\n",
    "    for fn in filenames:\n",
    "        prefix = fn.split('.txt')[0]\n",
    "        ticker, sector = prefix.split('_')\n",
    "        filepath = os.path.join(path, fn)\n",
    "        with open(filepath, 'r', encoding=\"utf8\") as f:\n",
    "            bd = f.read().strip()\n",
    "        \n",
    "        if preprocess:\n",
    "            bd = preprocess_text(bd)\n",
    "\n",
    "        tickers.append(ticker)\n",
    "        sectors.append(sector)\n",
    "        bds.append(bd)\n",
    "    \n",
    "    return tickers, sectors, bds\n",
    "\n",
    "\n",
    "def load_bds1(path, preprocess=False, exclude_tickers=None):\n",
    "    \"\"\" Load data from the business data, given the file path (e.g. \"data/bds_1.txt\").\n",
    "    \n",
    "    In the file, each company has two consecutive lines.\n",
    "    The first line is <company ticker>:<CIK> (we only care about the ticker)\n",
    "    and the second line is the company business description.\n",
    "    \n",
    "    exclude_tickers is a list of tickers that we want to ignore in bds_1.txt.\n",
    "    For example, we can use this to exclude any S&P500 companies to avoid\n",
    "    overlapping of datasets.\n",
    "    \"\"\"\n",
    "    \n",
    "    with open(path, \"r\", encoding=\"utf8\") as f:\n",
    "        lines = f.readlines()\n",
    "\n",
    "    company_ids_all = [ln.strip() for ln in lines[0::2]]\n",
    "    company_descriptions_all = [ln.strip() for ln in lines[1::2]]\n",
    "    company_tickers = [x.split(':')[0] for x in company_ids_all]\n",
    "\n",
    "    exclusion_set = set(exclude_tickers) if exclude_tickers is not None else set()\n",
    "\n",
    "    tickers = []\n",
    "    bds = []\n",
    "    \n",
    "    # Some business descriptions are too short (or even empty),\n",
    "    # so we only keep those with a length (number of characters) deemed reasonable.\n",
    "    bd_valid_length = 3000\n",
    "    for ticker, bd in zip(company_tickers, company_descriptions_all):\n",
    "        if ticker not in exclusion_set and len(bd) >= bd_valid_length:\n",
    "            tickers.append(ticker)\n",
    "            \n",
    "            if preprocess:\n",
    "                bd = preprocess_text(bd)\n",
    "            bds.append(bd)\n",
    "    \n",
    "    return tickers, bds"
   ]
  },
  {
   "cell_type": "markdown",
   "id": "liberal-veteran",
   "metadata": {},
   "source": [
    "## Begin Demo"
   ]
  },
  {
   "cell_type": "code",
   "execution_count": 11,
   "id": "sorted-penalty",
   "metadata": {},
   "outputs": [
    {
     "name": "stdout",
     "output_type": "stream",
     "text": [
      "CPU times: user 1min 6s, sys: 337 ms, total: 1min 7s\n",
      "Wall time: 1min 7s\n"
     ]
    }
   ],
   "source": [
    "%%time\n",
    "# Load and preprocess S&P500 and BDS1 data.\n",
    "# We use BDS1 as the training set and S&P500 as the validation set.\n",
    "sp500_tickers, sp500_sectors, sp500_bds = load_sp500(\"../SP500\", preprocess=True)\n",
    "bds1_tickers, bds1_bds = load_bds1(\"./data/bds_1.txt\", preprocess=True, exclude_tickers=sp500_tickers)"
   ]
  },
  {
   "cell_type": "code",
   "execution_count": 12,
   "id": "passing-wells",
   "metadata": {},
   "outputs": [
    {
     "data": {
      "text/plain": [
       "CountVectorizer(max_df=0.95, max_features=4000, min_df=2)"
      ]
     },
     "execution_count": 12,
     "metadata": {},
     "output_type": "execute_result"
    }
   ],
   "source": [
    "# FEATURE EXTRACTION\n",
    "# Use this to convert text to a Bag-of-Words (term-frequency) representation.\n",
    "# We \"train\" this vectorizer on S&P500 only, assuming the BDS1 validation set is \"unseen\".\n",
    "# When evaluating, if a word in a business description from BDS1 doesn't exist in S&P500 data,\n",
    "# then it will be ignored.\n",
    "\n",
    "# Only keep top n most frequent words (adjust futher if required)\n",
    "# These parameters (except stopwords, since they are already removed)\n",
    "# were used in LDA notebooks. Adjust if needed.\n",
    "n_features = 4000\n",
    "tf_vectorizer = CountVectorizer(max_features=n_features, max_df=0.95, min_df=2)\n",
    "tf_vectorizer.fit(sp500_bds)"
   ]
  },
  {
   "cell_type": "code",
   "execution_count": 13,
   "id": "working-sheriff",
   "metadata": {},
   "outputs": [],
   "source": [
    "X_sp500 = tf_vectorizer.transform(sp500_bds).todense()"
   ]
  },
  {
   "cell_type": "code",
   "execution_count": 14,
   "id": "failing-surface",
   "metadata": {},
   "outputs": [],
   "source": [
    "class BDDataset(Dataset):\n",
    "    \"\"\" Very simple dataset object. Stores all the passages.\n",
    "    \n",
    "    This is just for compatibility with PyTorch DataLoader.\n",
    "    \"\"\"\n",
    "    def __init__(self, data):\n",
    "        self.data = data\n",
    "\n",
    "    def __len__(self):\n",
    "        return len(self.data)\n",
    "    \n",
    "    def __getitem__(self, idx):\n",
    "        return self.data[idx]"
   ]
  },
  {
   "cell_type": "code",
   "execution_count": 15,
   "id": "working-optimum",
   "metadata": {},
   "outputs": [],
   "source": [
    "def train(model, data_loader, outer_epochs=1000, print_every=100, device=\"cpu\"):\n",
    "\n",
    "    # Trains both the encoder and decoder at the same time.\n",
    "    optimizer = torch.optim.Adam(model.parameters(), lr=0.001)\n",
    "\n",
    "    start_time = timer()\n",
    "    print(\"Start training...\")\n",
    "\n",
    "\n",
    "    for epoch in range(outer_epochs):\n",
    "\n",
    "        loss_sum = 0.0\n",
    "        rec_sum = 0.0\n",
    "        kl_sum = 0.0\n",
    "        n = len(data_loader)\n",
    "\n",
    "        for text in data_loader:\n",
    "            text = text.to(device)\n",
    "\n",
    "            optimizer.zero_grad()\n",
    "            loss_dict = model(text, kl_weight=1.0)\n",
    "            loss = loss_dict[\"total\"].sum()\n",
    "            loss.backward()\n",
    "\n",
    "            optimizer.step()\n",
    "\n",
    "            # For printing\n",
    "            loss_sum += loss.item()\n",
    "            rec_sum += loss_dict[\"rec\"].sum().item()\n",
    "            kl_sum += loss_dict[\"kl\"].sum().item()\n",
    "\n",
    "        if (epoch + 1) % print_every == 0:\n",
    "            print(f\"[Time: {timedelta(seconds=timer() - start_time)}, Epoch {epoch + 1}] Loss {loss_sum/n}, Rec {rec_sum/n}, KL {kl_sum/n}\")"
   ]
  },
  {
   "cell_type": "code",
   "execution_count": 16,
   "id": "unexpected-ratio",
   "metadata": {},
   "outputs": [],
   "source": [
    "# Create data loader to iterate over dataset in batches during training/evaluation\n",
    "dataset = BDDataset(torch.tensor(X_sp500, dtype=torch.float32))\n",
    "batch_size = 64\n",
    "data_loader = DataLoader(dataset, batch_size=batch_size, shuffle=True)\n",
    "hidden_size = 500\n",
    "num_topics = 15"
   ]
  },
  {
   "cell_type": "code",
   "execution_count": 17,
   "id": "healthy-source",
   "metadata": {},
   "outputs": [
    {
     "name": "stdout",
     "output_type": "stream",
     "text": [
      "Start training...\n",
      "[Time: 0:00:02.568916, Epoch 100] Loss 1702318.4375, Rec 1697877.265625, KL 4441.187805175781\n",
      "[Time: 0:00:05.150865, Epoch 200] Loss 1680175.3125, Rec 1675553.875, KL 4621.430877685547\n",
      "[Time: 0:00:07.743113, Epoch 300] Loss 1674282.828125, Rec 1669750.984375, KL 4531.799987792969\n",
      "[Time: 0:00:10.336661, Epoch 400] Loss 1672329.421875, Rec 1667921.8125, KL 4407.631896972656\n",
      "[Time: 0:00:12.947881, Epoch 500] Loss 1670870.25, Rec 1666570.703125, KL 4299.537536621094\n",
      "[Time: 0:00:15.554298, Epoch 600] Loss 1670090.4375, Rec 1665947.328125, KL 4143.09375\n",
      "[Time: 0:00:18.152518, Epoch 700] Loss 1669631.28125, Rec 1665567.140625, KL 4064.1722717285156\n",
      "[Time: 0:00:20.749185, Epoch 800] Loss 1669493.078125, Rec 1665476.421875, KL 4016.69482421875\n",
      "[Time: 0:00:23.355198, Epoch 900] Loss 1668959.609375, Rec 1665066.640625, KL 3893.016815185547\n",
      "[Time: 0:00:25.971967, Epoch 1000] Loss 1668317.703125, Rec 1664492.875, KL 3824.8028259277344\n",
      "[Time: 0:00:28.590026, Epoch 1100] Loss 1668243.0625, Rec 1664462.34375, KL 3780.763671875\n",
      "[Time: 0:00:31.264367, Epoch 1200] Loss 1667947.828125, Rec 1664229.765625, KL 3718.0875854492188\n",
      "[Time: 0:00:33.981528, Epoch 1300] Loss 1667946.734375, Rec 1664264.96875, KL 3681.7403564453125\n",
      "[Time: 0:00:36.653678, Epoch 1400] Loss 1667600.546875, Rec 1663976.8125, KL 3623.7320251464844\n",
      "[Time: 0:00:39.368341, Epoch 1500] Loss 1667916.15625, Rec 1664322.640625, KL 3593.518768310547\n",
      "[Time: 0:00:42.027312, Epoch 1600] Loss 1667223.640625, Rec 1663644.609375, KL 3579.046844482422\n",
      "[Time: 0:00:44.675407, Epoch 1700] Loss 1667329.8125, Rec 1663767.9375, KL 3561.8578491210938\n",
      "[Time: 0:00:47.319588, Epoch 1800] Loss 1667108.40625, Rec 1663598.65625, KL 3509.7730407714844\n",
      "[Time: 0:00:49.953709, Epoch 1900] Loss 1666918.40625, Rec 1663419.890625, KL 3498.4703369140625\n",
      "[Time: 0:00:52.663622, Epoch 2000] Loss 1667205.578125, Rec 1663734.671875, KL 3470.8720703125\n",
      "[Time: 0:00:55.333955, Epoch 2100] Loss 1666653.171875, Rec 1663187.1875, KL 3465.97705078125\n",
      "[Time: 0:00:57.994197, Epoch 2200] Loss 1666825.28125, Rec 1663374.21875, KL 3451.064178466797\n",
      "[Time: 0:01:00.663000, Epoch 2300] Loss 1666716.5625, Rec 1663309.578125, KL 3406.9642639160156\n",
      "[Time: 0:01:03.349343, Epoch 2400] Loss 1666450.578125, Rec 1663017.109375, KL 3433.5018310546875\n",
      "[Time: 0:01:06.074753, Epoch 2500] Loss 1666631.09375, Rec 1663231.75, KL 3399.349609375\n",
      "[Time: 0:01:08.766359, Epoch 2600] Loss 1666426.34375, Rec 1663009.046875, KL 3417.3096313476562\n",
      "[Time: 0:01:11.535213, Epoch 2700] Loss 1666371.46875, Rec 1662994.5, KL 3377.0083618164062\n",
      "[Time: 0:01:14.238153, Epoch 2800] Loss 1666077.0, Rec 1662721.078125, KL 3355.9129333496094\n",
      "[Time: 0:01:16.889109, Epoch 2900] Loss 1665750.53125, Rec 1662418.765625, KL 3331.776092529297\n",
      "[Time: 0:01:19.524869, Epoch 3000] Loss 1665912.28125, Rec 1662523.9375, KL 3388.3399658203125\n",
      "[Time: 0:01:22.155663, Epoch 3100] Loss 1665681.03125, Rec 1662358.921875, KL 3322.094024658203\n",
      "[Time: 0:01:24.760577, Epoch 3200] Loss 1666106.9375, Rec 1662774.796875, KL 3332.1246643066406\n",
      "[Time: 0:01:27.363217, Epoch 3300] Loss 1666334.75, Rec 1663077.65625, KL 3257.0868530273438\n",
      "[Time: 0:01:29.999280, Epoch 3400] Loss 1665570.125, Rec 1662281.53125, KL 3288.5880432128906\n",
      "[Time: 0:01:32.631644, Epoch 3500] Loss 1665607.703125, Rec 1662294.578125, KL 3313.146514892578\n",
      "[Time: 0:01:35.267184, Epoch 3600] Loss 1665543.640625, Rec 1662262.109375, KL 3281.5449829101562\n",
      "[Time: 0:01:37.899674, Epoch 3700] Loss 1665353.015625, Rec 1662077.015625, KL 3276.0142211914062\n",
      "[Time: 0:01:40.600176, Epoch 3800] Loss 1665550.671875, Rec 1662306.75, KL 3243.912628173828\n",
      "[Time: 0:01:43.243441, Epoch 3900] Loss 1665336.203125, Rec 1662101.0625, KL 3235.1502685546875\n",
      "[Time: 0:01:45.869829, Epoch 4000] Loss 1665302.890625, Rec 1662093.015625, KL 3209.878662109375\n",
      "[Time: 0:01:48.505522, Epoch 4100] Loss 1665379.640625, Rec 1662122.390625, KL 3257.2235412597656\n",
      "[Time: 0:01:51.147604, Epoch 4200] Loss 1665307.953125, Rec 1662056.34375, KL 3251.64111328125\n",
      "[Time: 0:01:53.795951, Epoch 4300] Loss 1664994.046875, Rec 1661787.46875, KL 3206.6121520996094\n",
      "[Time: 0:01:56.436684, Epoch 4400] Loss 1665022.171875, Rec 1661804.1875, KL 3217.940643310547\n",
      "[Time: 0:01:59.076217, Epoch 4500] Loss 1665052.453125, Rec 1661825.421875, KL 3227.080780029297\n",
      "[Time: 0:02:01.706311, Epoch 4600] Loss 1665098.65625, Rec 1661886.546875, KL 3212.119598388672\n",
      "[Time: 0:02:04.338484, Epoch 4700] Loss 1665005.96875, Rec 1661788.0625, KL 3217.9200134277344\n",
      "[Time: 0:02:06.976098, Epoch 4800] Loss 1664798.125, Rec 1661606.984375, KL 3191.094482421875\n",
      "[Time: 0:02:09.617066, Epoch 4900] Loss 1665877.234375, Rec 1662656.53125, KL 3220.7198791503906\n",
      "[Time: 0:02:12.264308, Epoch 5000] Loss 1665109.484375, Rec 1661913.5625, KL 3195.902557373047\n"
     ]
    }
   ],
   "source": [
    "vocab_size = len(tf_vectorizer.get_feature_names())\n",
    "model = nvdm.NVDM(vocab_size, hidden_size, num_topics, 1, device)\n",
    "model = model.to(device)\n",
    "model.train()\n",
    "train(model, data_loader, outer_epochs=5000, print_every=500, device=device)"
   ]
  },
  {
   "cell_type": "code",
   "execution_count": 18,
   "id": "single-depth",
   "metadata": {},
   "outputs": [
    {
     "data": {
      "text/plain": [
       "torch.Size([4000, 15])"
      ]
     },
     "execution_count": 18,
     "metadata": {},
     "output_type": "execute_result"
    }
   ],
   "source": [
    "# Extract the vocab-topic matrix (known as R in the paper).\n",
    "# It has dimensions |V| x K: vocab size x number of topics\n",
    "decoder = model.decoder[0]\n",
    "weights = decoder.weight.data.detach().clone()\n",
    "weights.size()"
   ]
  },
  {
   "cell_type": "code",
   "execution_count": 19,
   "id": "antique-weekend",
   "metadata": {},
   "outputs": [
    {
     "name": "stdout",
     "output_type": "stream",
     "text": [
      "medical 2369\n",
      "medical\t1.0\n",
      "physician\t0.8671005368232727\n",
      "medicare\t0.7989314794540405\n",
      "hospital\t0.7836596369743347\n",
      "surgical\t0.7744660377502441\n",
      "clinician\t0.7555355429649353\n",
      "catheter\t0.751934289932251\n",
      "patient\t0.7511759996414185\n",
      "care\t0.7504316568374634\n",
      "surgery\t0.7286518216133118\n",
      "nurse\t0.7270124554634094\n",
      "interventional\t0.7133541107177734\n",
      "pain\t0.7127078771591187\n",
      "heart\t0.712287962436676\n",
      "disease\t0.710130512714386\n",
      "clinical\t0.7091981768608093\n",
      "diagnosis\t0.6998069882392883\n",
      "fda\t0.6938768029212952\n",
      "acute\t0.6867314577102661\n",
      "healthcare\t0.6672387719154358\n",
      "pma\t0.6663665771484375\n",
      "diagnostic\t0.6647933125495911\n",
      "reimbursement\t0.6599975824356079\n",
      "cardiovascular\t0.6581945419311523\n",
      "disorder\t0.658182680606842\n",
      "adherence\t0.6534446477890015\n",
      "medicaid\t0.6499167084693909\n",
      "invasive\t0.6444401144981384\n",
      "payors\t0.6425896286964417\n",
      "tissue\t0.6370396018028259\n",
      "treat\t0.635930061340332\n",
      "outpatient\t0.6339256167411804\n",
      "chronic\t0.6330421566963196\n",
      "premarket\t0.6325215697288513\n",
      "valve\t0.6313896775245667\n",
      "clinic\t0.6275714635848999\n",
      "practitioner\t0.6217257380485535\n",
      "payer\t0.6212723255157471\n",
      "setting\t0.6191511154174805\n",
      "therapy\t0.6172547340393066\n",
      "cancer\t0.593269944190979\n",
      "clinically\t0.5793680548667908\n",
      "inpatient\t0.5790273547172546\n",
      "dental\t0.5781999826431274\n",
      "quality\t0.5737437009811401\n",
      "treatment\t0.5728362798690796\n",
      "aca\t0.5718051791191101\n",
      "ce\t0.5715855360031128\n",
      "surgeon\t0.5672608017921448\n",
      "antikickback\t0.5660243630409241\n",
      "-----------\n",
      "technology 3652\n",
      "technology\t1.0\n",
      "capability\t0.9077259302139282\n",
      "combine\t0.90772545337677\n",
      "integration\t0.8988475799560547\n",
      "advanced\t0.8838783502578735\n",
      "technological\t0.883043110370636\n",
      "enable\t0.8757087588310242\n",
      "increasingly\t0.8752795457839966\n",
      "range\t0.8738755583763123\n",
      "solution\t0.8737808465957642\n",
      "automation\t0.8655294179916382\n",
      "array\t0.8646589517593384\n",
      "breadth\t0.8546358942985535\n",
      "wide\t0.8543994426727295\n",
      "single\t0.8536170125007629\n",
      "competitor\t0.8493015170097351\n",
      "hybrid\t0.8492479920387268\n",
      "deliver\t0.8470383882522583\n",
      "broad\t0.8415354490280151\n",
      "electronic\t0.8400821089744568\n",
      "enterprise\t0.8369013071060181\n",
      "emerging\t0.8358606100082397\n",
      "analytics\t0.8288646340370178\n",
      "optimize\t0.8225876092910767\n",
      "smaller\t0.8187747597694397\n",
      "innovate\t0.8184877038002014\n",
      "automated\t0.8175705075263977\n",
      "innovation\t0.8171729445457458\n",
      "improve\t0.8127853870391846\n",
      "enables\t0.8113470673561096\n",
      "endtoend\t0.8081104755401611\n",
      "address\t0.8079754114151001\n",
      "speed\t0.8071889877319336\n",
      "leading\t0.8064766526222229\n",
      "data\t0.8063932657241821\n",
      "scalable\t0.8035768866539001\n",
      "lifecycle\t0.7950060963630676\n",
      "component\t0.7923514246940613\n",
      "comprise\t0.7921646237373352\n",
      "customized\t0.791134774684906\n",
      "rapidly\t0.7900350093841553\n",
      "deploy\t0.7886489033699036\n",
      "highly\t0.7886484861373901\n",
      "industry\t0.7881900668144226\n",
      "evolving\t0.7857240438461304\n",
      "critical\t0.7849959135055542\n",
      "research\t0.7832183241844177\n",
      "integrating\t0.7821059226989746\n",
      "growing\t0.7808997631072998\n",
      "geography\t0.7778657674789429\n",
      "-----------\n",
      "mining 2425\n",
      "mining\t1.0\n",
      "ore\t0.9229708313941956\n",
      "mine\t0.8720137476921082\n",
      "metal\t0.8703166246414185\n",
      "copper\t0.8615304827690125\n",
      "machinery\t0.7904709577560425\n",
      "mineral\t0.7903979420661926\n",
      "molybdenum\t0.7892741560935974\n",
      "grade\t0.7876062393188477\n",
      "heat\t0.7729818820953369\n",
      "probable\t0.7477149367332458\n",
      "hydrocarbon\t0.7456576824188232\n",
      "log\t0.7446699738502502\n",
      "road\t0.7333139181137085\n",
      "light\t0.7290654182434082\n",
      "oxide\t0.7283665537834167\n",
      "concrete\t0.7262555360794067\n",
      "highway\t0.7255449891090393\n",
      "tonne\t0.7253771424293518\n",
      "pound\t0.7224392890930176\n",
      "turbine\t0.7201991677284241\n",
      "argentina\t0.7123836278915405\n",
      "acreage\t0.7032973766326904\n",
      "plant\t0.7004390954971313\n",
      "chile\t0.6972488760948181\n",
      "deere\t0.6970555186271667\n",
      "proved\t0.693939745426178\n",
      "sand\t0.6931633949279785\n",
      "province\t0.6899608969688416\n",
      "conventional\t0.6896552443504333\n",
      "ontario\t0.6794948577880859\n",
      "nov\t0.6774613857269287\n",
      "gold\t0.6773074865341187\n",
      "potash\t0.6771390438079834\n",
      "bottom\t0.6719833016395569\n",
      "inflow\t0.6718881726264954\n",
      "hydraulic\t0.6717582941055298\n",
      "totaled\t0.6678434610366821\n",
      "drill\t0.6624543070793152\n",
      "meter\t0.6607873439788818\n",
      "structural\t0.6576188206672668\n",
      "reservoir\t0.657443106174469\n",
      "recordable\t0.6572988629341125\n",
      "cubic\t0.6571177840232849\n",
      "undeveloped\t0.6565048694610596\n",
      "column\t0.6534091234207153\n",
      "concentrate\t0.6511337161064148\n",
      "forestry\t0.6507359743118286\n",
      "british\t0.6474295854568481\n",
      "locomotive\t0.6444404125213623\n",
      "-----------\n"
     ]
    }
   ],
   "source": [
    "# Look at some example words and their \"nearest\" words\n",
    "# according to their learned semantic word embeddings.\n",
    "candidates = [\"medical\", \"technology\", \"mining\"]\n",
    "\n",
    "# Convert string tokens to their integer ID and vice versa.\n",
    "stoi = tf_vectorizer.vocabulary_\n",
    "itos = tf_vectorizer.get_feature_names()\n",
    "\n",
    "for test_word in candidates:\n",
    "    idx = stoi[test_word]\n",
    "    print(test_word, idx)\n",
    "\n",
    "    # Show top 10 most similar (based on cosine distance)\n",
    "    sims = F.cosine_similarity(weights[idx].unsqueeze(0), weights)\n",
    "    sim_vals, sim_idxs = torch.topk(sims, 50)\n",
    "\n",
    "    # Show ith nearest word and its score.\n",
    "    for i, v in zip(sim_idxs, sim_vals):\n",
    "        print(f\"{itos[i]}\\t{v.item()}\")\n",
    "    \n",
    "    print(\"-----------\")"
   ]
  },
  {
   "cell_type": "code",
   "execution_count": 20,
   "id": "appointed-contrary",
   "metadata": {},
   "outputs": [
    {
     "data": {
      "image/png": "[encoded data removed]",
      "text/plain": [
       "<Figure size 900x864 with 15 Axes>"
      ]
     },
     "metadata": {
      "needs_background": "light"
     },
     "output_type": "display_data"
    }
   ],
   "source": [
    "decoder = model.decoder[0]\n",
    "weights = decoder.weight.data.detach().clone().cpu().numpy()\n",
    "topic_vocab_mat = weights.T\n",
    "\n",
    "plot_top_words(topic_vocab_mat, tf_vectorizer.get_feature_names(), 10, f\"NVDM Topics\")"
   ]
  },
  {
   "cell_type": "code",
   "execution_count": 21,
   "id": "apart-duncan",
   "metadata": {},
   "outputs": [],
   "source": [
    "def perplexity(model, dataset, n_sample):\n",
    "    \"\"\" Compute perplexity of PyTorch model on the PyTorch Dataset. \"\"\"\n",
    "\n",
    "    # Iterate over the whole dataset once (1 big batch).\n",
    "    data_loader = DataLoader(dataset,\n",
    "                             batch_size=len(dataset),\n",
    "                             shuffle=False)\n",
    "    assert len(data_loader) == 1\n",
    "\n",
    "    for text in data_loader:\n",
    "        text = text.to(\"cpu\")\n",
    "\n",
    "        with torch.no_grad():\n",
    "\n",
    "            # Estimate the loss for each document by sampling\n",
    "            loss_dict = model(text, kl_weight=1.0, n_sample=n_sample)\n",
    "            loss = loss_dict[\"total\"]\n",
    "\n",
    "            # According to the NVDM paper, we estimate log probabilities using\n",
    "            # the variational lower bound (negative of loss).\n",
    "            log_probs = -loss\n",
    "\n",
    "            # Perplexity below...\n",
    "            \n",
    "            # Length of each document is the sum of its bag-of-words vectpr\n",
    "            doc_lengths = text.sum(dim=1)\n",
    "\n",
    "            # Average over the words for each document\n",
    "            ppx_doc = log_probs / doc_lengths\n",
    "\n",
    "            # Perplexity: argument averages over documents\n",
    "            ppx = torch.exp(-ppx_doc.mean()).item()\n",
    "\n",
    "            return ppx"
   ]
  },
  {
   "cell_type": "code",
   "execution_count": 22,
   "id": "homeless-aside",
   "metadata": {},
   "outputs": [
    {
     "data": {
      "text/plain": [
       "1139.5369873046875"
      ]
     },
     "execution_count": 22,
     "metadata": {},
     "output_type": "execute_result"
    }
   ],
   "source": [
    "# Compute perplexity example\n",
    "model = model.to(\"cpu\")\n",
    "model.device = \"cpu\"\n",
    "model.eval()\n",
    "\n",
    "perplexity(model, dataset, 20)"
   ]
  },
  {
   "cell_type": "code",
   "execution_count": 23,
   "id": "linear-halifax",
   "metadata": {},
   "outputs": [],
   "source": [
    "# Used for topic coherence\n",
    "score_umass_mat = umass_score(X_sp500)"
   ]
  },
  {
   "cell_type": "code",
   "execution_count": 24,
   "id": "adolescent-application",
   "metadata": {},
   "outputs": [
    {
     "name": "stdout",
     "output_type": "stream",
     "text": [
      "Training k=10...\n",
      "Start training...\n",
      "[Time: 0:00:26.290144, Epoch 1000] Loss 1684316.390625, Rec 1681116.59375, KL 3199.7786254882812\n",
      "Training k=50...\n",
      "Start training...\n",
      "[Time: 0:00:27.226189, Epoch 1000] Loss 1628633.8125, Rec 1620603.875, KL 8029.9417724609375\n",
      "Training k=100...\n",
      "Start training...\n",
      "[Time: 0:00:28.338321, Epoch 1000] Loss 1607131.078125, Rec 1593442.5625, KL 13688.526489257812\n",
      "Training k=150...\n",
      "Start training...\n",
      "[Time: 0:00:29.521323, Epoch 1000] Loss 1594936.515625, Rec 1576334.6875, KL 18601.770263671875\n",
      "Training k=200...\n",
      "Start training...\n",
      "[Time: 0:00:30.774623, Epoch 1000] Loss 1590082.015625, Rec 1567579.78125, KL 22502.22998046875\n",
      "Training k=300...\n",
      "Start training...\n",
      "[Time: 0:00:32.289579, Epoch 1000] Loss 1590419.75, Rec 1562971.65625, KL 27448.1328125\n",
      "Training k=500...\n",
      "Start training...\n",
      "[Time: 0:00:37.358495, Epoch 1000] Loss 1593377.96875, Rec 1565522.96875, KL 27854.984619140625\n"
     ]
    }
   ],
   "source": [
    "k_values = [10, 50, 100, 150, 200, 300, 500]\n",
    "\n",
    "models_k = dict()\n",
    "vocab_size = len(tf_vectorizer.get_feature_names())\n",
    "\n",
    "for k in k_values:\n",
    "    print(f\"Training k={k}...\")\n",
    "    model = nvdm.NVDM(vocab_size, hidden_size, k, 1, device)\n",
    "    model = model.to(device)\n",
    "    model.train()\n",
    "    train(model, data_loader, outer_epochs=1000, print_every=1000, device=device)\n",
    "    models_k[k] = model"
   ]
  },
  {
   "cell_type": "code",
   "execution_count": 26,
   "id": "casual-cooling",
   "metadata": {},
   "outputs": [
    {
     "name": "stdout",
     "output_type": "stream",
     "text": [
      "Running k = 10\n",
      "Running k = 50\n",
      "Running k = 100\n",
      "Running k = 150\n",
      "Running k = 200\n",
      "Running k = 300\n",
      "Running k = 500\n"
     ]
    }
   ],
   "source": [
    "k_values.sort()\n",
    "tc_values = []\n",
    "ppx_values = []\n",
    "\n",
    "for k in k_values:\n",
    "    print(f'Running k = {k}')\n",
    "    this_model = models_k[k]\n",
    "    \n",
    "    this_model.device = \"cpu\"\n",
    "    this_model = this_model.cpu()\n",
    "    this_model.eval()\n",
    "    \n",
    "    # Extract the topic vocab matrix\n",
    "    decoder = this_model.decoder[0]\n",
    "    weights = decoder.weight.data.detach().clone().cpu().numpy()\n",
    "    topic_vocab_mat = weights.T\n",
    "    coherences = topic_coherence(topic_vocab_mat, 10, score_umass_mat)\n",
    "    this_c = np.mean(coherences)\n",
    "\n",
    "    # Topic coherence\n",
    "    tc_values.append(this_c)\n",
    "    \n",
    "    # Perplexity\n",
    "    ppx = perplexity(this_model, dataset, 20)\n",
    "    ppx_values.append(ppx)"
   ]
  },
  {
   "cell_type": "code",
   "execution_count": 27,
   "id": "northern-moses",
   "metadata": {},
   "outputs": [
    {
     "data": {
      "text/plain": [
       "Text(0, 0.5, 'Topic Coherence')"
      ]
     },
     "execution_count": 27,
     "metadata": {},
     "output_type": "execute_result"
    },
    {
     "data": {
      "image/png": "[encoded data removed]",
      "text/plain": [
       "<Figure size 432x288 with 1 Axes>"
      ]
     },
     "metadata": {
      "needs_background": "light"
     },
     "output_type": "display_data"
    }
   ],
   "source": [
    "plt.plot(k_values, tc_values)\n",
    "plt.xlabel(\"K\")\n",
    "plt.ylabel(\"Topic Coherence\")"
   ]
  },
  {
   "cell_type": "code",
   "execution_count": 28,
   "id": "independent-interface",
   "metadata": {},
   "outputs": [
    {
     "data": {
      "text/plain": [
       "Text(0, 0.5, 'Perplexity')"
      ]
     },
     "execution_count": 28,
     "metadata": {},
     "output_type": "execute_result"
    },
    {
     "data": {
      "image/png": "[encoded data removed]",
      "text/plain": [
       "<Figure size 432x288 with 1 Axes>"
      ]
     },
     "metadata": {
      "needs_background": "light"
     },
     "output_type": "display_data"
    }
   ],
   "source": [
    "plt.plot(k_values, ppx_values)\n",
    "plt.xlabel(\"K\")\n",
    "plt.ylabel(\"Perplexity\")"
   ]
  },
  {
   "cell_type": "code",
   "execution_count": 30,
   "id": "whole-employee",
   "metadata": {},
   "outputs": [
    {
     "name": "stdout",
     "output_type": "stream",
     "text": [
      "Start training...\n",
      "[Time: 0:00:06.484141, Epoch 200] Loss 1618104.859375, Rec 1597391.984375, KL 20712.864501953125\n",
      "[Time: 0:00:12.916568, Epoch 400] Loss 1602219.328125, Rec 1577814.671875, KL 24404.6650390625\n",
      "[Time: 0:00:19.296964, Epoch 600] Loss 1595320.015625, Rec 1569233.296875, KL 26086.71826171875\n",
      "[Time: 0:00:25.669732, Epoch 800] Loss 1591606.28125, Rec 1564635.40625, KL 26970.868896484375\n",
      "[Time: 0:00:32.038787, Epoch 1000] Loss 1590042.28125, Rec 1562623.34375, KL 27418.890625\n"
     ]
    }
   ],
   "source": [
    "# It appears that between 200 and 300 topics has the best balance between topic coherence and perplexity.\n",
    "best_model = nvdm.NVDM(vocab_size, hidden_size, 300, 1, device)\n",
    "best_model = best_model.to(device)\n",
    "best_model.train()\n",
    "train(best_model, data_loader, outer_epochs=1000, print_every=200, device=device)\n",
    "\n",
    "MODELSAVE_PATH = \"./modelsaves/nvdm_k300_1000epochs.pt\"\n",
    "torch.save(best_model.state_dict(), MODELSAVE_PATH)"
   ]
  },
  {
   "cell_type": "code",
   "execution_count": null,
   "id": "moral-dublin",
   "metadata": {},
   "outputs": [],
   "source": []
  }
 ],
 "metadata": {
  "kernelspec": {
   "display_name": "Python 3",
   "language": "python",
   "name": "python3"
  },
  "language_info": {
   "codemirror_mode": {
    "name": "ipython",
    "version": 3
   },
   "file_extension": ".py",
   "mimetype": "text/x-python",
   "name": "python",
   "nbconvert_exporter": "python",
   "pygments_lexer": "ipython3",
   "version": "3.9.4"
  }
 },
 "nbformat": 4,
 "nbformat_minor": 5
}
