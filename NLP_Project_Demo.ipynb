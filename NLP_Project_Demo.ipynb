{
  "nbformat": 4,
  "nbformat_minor": 0,
  "metadata": {
    "colab": {
      "name": "NLP Project Demo.ipynb",
      "provenance": [],
      "collapsed_sections": [],
      "toc_visible": true
    },
    "kernelspec": {
      "name": "python3",
      "display_name": "Python 3"
    },
    "language_info": {
      "name": "python"
    },
    "widgets": {
      "application/vnd.jupyter.widget-state+json": {
        "92a3542518644adabaee0806e718f215": {
          "model_module": "@jupyter-widgets/controls",
          "model_name": "VBoxModel",
          "state": {
            "_view_name": "VBoxView",
            "_dom_classes": [],
            "_model_name": "VBoxModel",
            "_view_module": "@jupyter-widgets/controls",
            "_model_module_version": "1.5.0",
            "_view_count": null,
            "_view_module_version": "1.5.0",
            "box_style": "",
            "layout": "IPY_MODEL_e2d59c8945d740da95101ba69a0b67fd",
            "_model_module": "@jupyter-widgets/controls",
            "children": [
              "IPY_MODEL_8adcc39e812848fdba0afe83a9e53488",
              "IPY_MODEL_b584863786cf4dd48be2af80ed6bccc6",
              "IPY_MODEL_59c3eb1a81624bc1840227327dfd27b1",
              "IPY_MODEL_e75c2090f364425898194207bece55e8"
            ]
          }
        },
        "e2d59c8945d740da95101ba69a0b67fd": {
          "model_module": "@jupyter-widgets/base",
          "model_name": "LayoutModel",
          "state": {
            "_view_name": "LayoutView",
            "grid_template_rows": null,
            "right": null,
            "justify_content": null,
            "_view_module": "@jupyter-widgets/base",
            "overflow": null,
            "_model_module_version": "1.2.0",
            "_view_count": null,
            "flex_flow": null,
            "width": null,
            "min_width": null,
            "border": null,
            "align_items": null,
            "bottom": null,
            "_model_module": "@jupyter-widgets/base",
            "top": null,
            "grid_column": null,
            "overflow_y": null,
            "overflow_x": null,
            "grid_auto_flow": null,
            "grid_area": null,
            "grid_template_columns": null,
            "flex": null,
            "_model_name": "LayoutModel",
            "justify_items": null,
            "grid_row": null,
            "max_height": null,
            "align_content": null,
            "visibility": null,
            "align_self": null,
            "height": null,
            "min_height": null,
            "padding": null,
            "grid_auto_rows": null,
            "grid_gap": null,
            "max_width": null,
            "order": null,
            "_view_module_version": "1.2.0",
            "grid_template_areas": null,
            "object_position": null,
            "object_fit": null,
            "grid_auto_columns": null,
            "margin": null,
            "display": null,
            "left": null
          }
        },
        "8adcc39e812848fdba0afe83a9e53488": {
          "model_module": "@jupyter-widgets/controls",
          "model_name": "DropdownModel",
          "state": {
            "_options_labels": [
              "K-Means",
              "LDA",
              "NVDM"
            ],
            "_view_name": "DropdownView",
            "style": "IPY_MODEL_94cc1ec6965a4f8f92ab29ecde024c94",
            "_dom_classes": [],
            "description": "Model:",
            "_model_name": "DropdownModel",
            "index": 1,
            "_view_module": "@jupyter-widgets/controls",
            "_model_module_version": "1.5.0",
            "_view_count": null,
            "disabled": false,
            "_view_module_version": "1.5.0",
            "description_tooltip": null,
            "_model_module": "@jupyter-widgets/controls",
            "layout": "IPY_MODEL_1b660ecc95c84b31a59cc9ab0520d811"
          }
        },
        "b584863786cf4dd48be2af80ed6bccc6": {
          "model_module": "@jupyter-widgets/controls",
          "model_name": "TextareaModel",
          "state": {
            "_view_name": "TextareaView",
            "style": "IPY_MODEL_a7d40cc2c2c14899ad82c0bcb9d0dd45",
            "rows": null,
            "_dom_classes": [],
            "description": "Description:",
            "_model_name": "TextareaModel",
            "placeholder": "Type business description here...",
            "_view_module": "@jupyter-widgets/controls",
            "_model_module_version": "1.5.0",
            "value": "Novartis International AG is a Swiss multinational pharmaceutical company based in Basel, Switzerland. It is one of the largest pharmaceutical companies in the world. Novartis manufactures the drugs clozapine (Clozaril), diclofenac (Voltaren)(sold to Glaxo Smith Kline in 2015 deal), carbamazepine (Tegretol), valsartan (Diovan), imatinib mesylate (Gleevec/Glivec), cyclosporine (Neoral/Sandimmune), letrozole (Femara), methylphenidate (Ritalin) (production ceased 2020), terbinafine (Lamisil), deferasirox (Exjade), and others. In March 1996, Ciba-Geigy merged with Sandoz; the pharmaceutical and agrochemical divisions of both companies formed Novartis as an independent entity. Other Ciba-Geigy and Sandoz businesses were sold, or, like Ciba Specialty Chemicals, spun off as independent companies. The Sandoz brand disappeared for three years, but was revived in 2003 when Novartis consolidated its generic drugs businesses into a single subsidiary and named it Sandoz. Novartis divested its agrochemical and genetically modified crops business in 2000 with the spinout of Syngenta in partnership with AstraZeneca, which also divested its agrochemical business. Novartis is a full member of the European Federation of Pharmaceutical Industries and Associations (EFPIA),[4] the International Federation of Pharmaceutical Manufacturers and Associations (IFPMA),[5] and the Pharmaceutical Research and Manufacturers of America (PhRMA).[6]",
            "_view_count": null,
            "disabled": false,
            "_view_module_version": "1.5.0",
            "continuous_update": true,
            "description_tooltip": null,
            "_model_module": "@jupyter-widgets/controls",
            "layout": "IPY_MODEL_a8d6a6d98bfd40849df4ce8981a634df"
          }
        },
        "59c3eb1a81624bc1840227327dfd27b1": {
          "model_module": "@jupyter-widgets/controls",
          "model_name": "ButtonModel",
          "state": {
            "_view_name": "ButtonView",
            "style": "IPY_MODEL_4ac4fb75550b46a39c7158e99af165ab",
            "_dom_classes": [],
            "description": "Click here to run!",
            "_model_name": "ButtonModel",
            "button_style": "",
            "_view_module": "@jupyter-widgets/controls",
            "_model_module_version": "1.5.0",
            "tooltip": "",
            "_view_count": null,
            "disabled": false,
            "_view_module_version": "1.5.0",
            "layout": "IPY_MODEL_8c6229e7722c4c9f80526fd174629109",
            "_model_module": "@jupyter-widgets/controls",
            "icon": ""
          }
        },
        "e75c2090f364425898194207bece55e8": {
          "model_module": "@jupyter-widgets/output",
          "model_name": "OutputModel",
          "state": {
            "_view_name": "OutputView",
            "msg_id": "",
            "_dom_classes": [],
            "_model_name": "OutputModel",
            "outputs": [
              {
                "output_type": "stream",
                "metadata": {
                  "tags": []
                },
                "text": "Your company was assigned to topic 18.\nOther companies with the same topic assignment:\n   Symbol                        Name       Sector\n0    INCY                      Incyte  Health Care\n1    REGN   Regeneron Pharmaceuticals  Health Care\n2    VRTX  Vertex Pharmaceuticals Inc  Health Care\n3     MRK                 Merck & Co.  Health Care\n4    GILD             Gilead Sciences  Health Care\n5    ALXN     Alexion Pharmaceuticals  Health Care\n6     BMY        Bristol-Myers Squibb  Health Care\n7    BIIB                 Biogen Inc.  Health Care\n8    AMGN                  Amgen Inc.  Health Care\n9    ABBV                 AbbVie Inc.  Health Care\n10    LLY           Lilly (Eli) & Co.  Health Care\n11    PFE                 Pfizer Inc.  Health Care\n12   PRGO                     Perrigo  Health Care\n",
                "stream": "stdout"
              }
            ],
            "_view_module": "@jupyter-widgets/output",
            "_model_module_version": "1.0.0",
            "_view_count": null,
            "_view_module_version": "1.0.0",
            "layout": "IPY_MODEL_d34fe4e3bc9946d7a5b942372cceb8ff",
            "_model_module": "@jupyter-widgets/output"
          }
        },
        "94cc1ec6965a4f8f92ab29ecde024c94": {
          "model_module": "@jupyter-widgets/controls",
          "model_name": "DescriptionStyleModel",
          "state": {
            "_view_name": "StyleView",
            "_model_name": "DescriptionStyleModel",
            "description_width": "",
            "_view_module": "@jupyter-widgets/base",
            "_model_module_version": "1.5.0",
            "_view_count": null,
            "_view_module_version": "1.2.0",
            "_model_module": "@jupyter-widgets/controls"
          }
        },
        "1b660ecc95c84b31a59cc9ab0520d811": {
          "model_module": "@jupyter-widgets/base",
          "model_name": "LayoutModel",
          "state": {
            "_view_name": "LayoutView",
            "grid_template_rows": null,
            "right": null,
            "justify_content": null,
            "_view_module": "@jupyter-widgets/base",
            "overflow": null,
            "_model_module_version": "1.2.0",
            "_view_count": null,
            "flex_flow": null,
            "width": null,
            "min_width": null,
            "border": null,
            "align_items": null,
            "bottom": null,
            "_model_module": "@jupyter-widgets/base",
            "top": null,
            "grid_column": null,
            "overflow_y": null,
            "overflow_x": null,
            "grid_auto_flow": null,
            "grid_area": null,
            "grid_template_columns": null,
            "flex": null,
            "_model_name": "LayoutModel",
            "justify_items": null,
            "grid_row": null,
            "max_height": null,
            "align_content": null,
            "visibility": null,
            "align_self": null,
            "height": null,
            "min_height": null,
            "padding": null,
            "grid_auto_rows": null,
            "grid_gap": null,
            "max_width": null,
            "order": null,
            "_view_module_version": "1.2.0",
            "grid_template_areas": null,
            "object_position": null,
            "object_fit": null,
            "grid_auto_columns": null,
            "margin": null,
            "display": null,
            "left": null
          }
        },
        "a7d40cc2c2c14899ad82c0bcb9d0dd45": {
          "model_module": "@jupyter-widgets/controls",
          "model_name": "DescriptionStyleModel",
          "state": {
            "_view_name": "StyleView",
            "_model_name": "DescriptionStyleModel",
            "description_width": "",
            "_view_module": "@jupyter-widgets/base",
            "_model_module_version": "1.5.0",
            "_view_count": null,
            "_view_module_version": "1.2.0",
            "_model_module": "@jupyter-widgets/controls"
          }
        },
        "a8d6a6d98bfd40849df4ce8981a634df": {
          "model_module": "@jupyter-widgets/base",
          "model_name": "LayoutModel",
          "state": {
            "_view_name": "LayoutView",
            "grid_template_rows": null,
            "right": null,
            "justify_content": null,
            "_view_module": "@jupyter-widgets/base",
            "overflow": null,
            "_model_module_version": "1.2.0",
            "_view_count": null,
            "flex_flow": null,
            "width": "50%",
            "min_width": null,
            "border": null,
            "align_items": null,
            "bottom": null,
            "_model_module": "@jupyter-widgets/base",
            "top": null,
            "grid_column": null,
            "overflow_y": null,
            "overflow_x": null,
            "grid_auto_flow": null,
            "grid_area": null,
            "grid_template_columns": null,
            "flex": null,
            "_model_name": "LayoutModel",
            "justify_items": null,
            "grid_row": null,
            "max_height": null,
            "align_content": null,
            "visibility": null,
            "align_self": null,
            "height": null,
            "min_height": null,
            "padding": null,
            "grid_auto_rows": null,
            "grid_gap": null,
            "max_width": null,
            "order": null,
            "_view_module_version": "1.2.0",
            "grid_template_areas": null,
            "object_position": null,
            "object_fit": null,
            "grid_auto_columns": null,
            "margin": null,
            "display": null,
            "left": null
          }
        },
        "4ac4fb75550b46a39c7158e99af165ab": {
          "model_module": "@jupyter-widgets/controls",
          "model_name": "ButtonStyleModel",
          "state": {
            "_view_name": "StyleView",
            "_model_name": "ButtonStyleModel",
            "_view_module": "@jupyter-widgets/base",
            "_model_module_version": "1.5.0",
            "_view_count": null,
            "button_color": null,
            "font_weight": "",
            "_view_module_version": "1.2.0",
            "_model_module": "@jupyter-widgets/controls"
          }
        },
        "8c6229e7722c4c9f80526fd174629109": {
          "model_module": "@jupyter-widgets/base",
          "model_name": "LayoutModel",
          "state": {
            "_view_name": "LayoutView",
            "grid_template_rows": null,
            "right": null,
            "justify_content": null,
            "_view_module": "@jupyter-widgets/base",
            "overflow": null,
            "_model_module_version": "1.2.0",
            "_view_count": null,
            "flex_flow": null,
            "width": null,
            "min_width": null,
            "border": "solid",
            "align_items": null,
            "bottom": null,
            "_model_module": "@jupyter-widgets/base",
            "top": null,
            "grid_column": null,
            "overflow_y": null,
            "overflow_x": null,
            "grid_auto_flow": null,
            "grid_area": null,
            "grid_template_columns": null,
            "flex": null,
            "_model_name": "LayoutModel",
            "justify_items": null,
            "grid_row": null,
            "max_height": null,
            "align_content": null,
            "visibility": null,
            "align_self": null,
            "height": null,
            "min_height": null,
            "padding": null,
            "grid_auto_rows": null,
            "grid_gap": null,
            "max_width": null,
            "order": null,
            "_view_module_version": "1.2.0",
            "grid_template_areas": null,
            "object_position": null,
            "object_fit": null,
            "grid_auto_columns": null,
            "margin": null,
            "display": null,
            "left": null
          }
        },
        "d34fe4e3bc9946d7a5b942372cceb8ff": {
          "model_module": "@jupyter-widgets/base",
          "model_name": "LayoutModel",
          "state": {
            "_view_name": "LayoutView",
            "grid_template_rows": null,
            "right": null,
            "justify_content": null,
            "_view_module": "@jupyter-widgets/base",
            "overflow": null,
            "_model_module_version": "1.2.0",
            "_view_count": null,
            "flex_flow": null,
            "width": null,
            "min_width": null,
            "border": null,
            "align_items": null,
            "bottom": null,
            "_model_module": "@jupyter-widgets/base",
            "top": null,
            "grid_column": null,
            "overflow_y": null,
            "overflow_x": null,
            "grid_auto_flow": null,
            "grid_area": null,
            "grid_template_columns": null,
            "flex": null,
            "_model_name": "LayoutModel",
            "justify_items": null,
            "grid_row": null,
            "max_height": null,
            "align_content": null,
            "visibility": null,
            "align_self": null,
            "height": null,
            "min_height": null,
            "padding": null,
            "grid_auto_rows": null,
            "grid_gap": null,
            "max_width": null,
            "order": null,
            "_view_module_version": "1.2.0",
            "grid_template_areas": null,
            "object_position": null,
            "object_fit": null,
            "grid_auto_columns": null,
            "margin": null,
            "display": null,
            "left": null
          }
        },
        "168941306d574ba9bb44c76bbd3a5ae8": {
          "model_module": "@jupyter-widgets/controls",
          "model_name": "VBoxModel",
          "state": {
            "_view_name": "VBoxView",
            "_dom_classes": [],
            "_model_name": "VBoxModel",
            "_view_module": "@jupyter-widgets/controls",
            "_model_module_version": "1.5.0",
            "_view_count": null,
            "_view_module_version": "1.5.0",
            "box_style": "",
            "layout": "IPY_MODEL_dd480f493a9d4a70910feada3ee20ba3",
            "_model_module": "@jupyter-widgets/controls",
            "children": [
              "IPY_MODEL_515827b82a1c47a99c9274d6fd5995e8",
              "IPY_MODEL_35c0037ef93d4b11b20efba9af829017",
              "IPY_MODEL_cb381d55e6a641f9baaee4285f2fbfc9",
              "IPY_MODEL_cfdee55747064e70b0d45e27aa7f804d"
            ]
          }
        },
        "dd480f493a9d4a70910feada3ee20ba3": {
          "model_module": "@jupyter-widgets/base",
          "model_name": "LayoutModel",
          "state": {
            "_view_name": "LayoutView",
            "grid_template_rows": null,
            "right": null,
            "justify_content": null,
            "_view_module": "@jupyter-widgets/base",
            "overflow": null,
            "_model_module_version": "1.2.0",
            "_view_count": null,
            "flex_flow": null,
            "width": null,
            "min_width": null,
            "border": null,
            "align_items": null,
            "bottom": null,
            "_model_module": "@jupyter-widgets/base",
            "top": null,
            "grid_column": null,
            "overflow_y": null,
            "overflow_x": null,
            "grid_auto_flow": null,
            "grid_area": null,
            "grid_template_columns": null,
            "flex": null,
            "_model_name": "LayoutModel",
            "justify_items": null,
            "grid_row": null,
            "max_height": null,
            "align_content": null,
            "visibility": null,
            "align_self": null,
            "height": null,
            "min_height": null,
            "padding": null,
            "grid_auto_rows": null,
            "grid_gap": null,
            "max_width": null,
            "order": null,
            "_view_module_version": "1.2.0",
            "grid_template_areas": null,
            "object_position": null,
            "object_fit": null,
            "grid_auto_columns": null,
            "margin": null,
            "display": null,
            "left": null
          }
        },
        "515827b82a1c47a99c9274d6fd5995e8": {
          "model_module": "@jupyter-widgets/controls",
          "model_name": "DropdownModel",
          "state": {
            "_options_labels": [
              "K-Means",
              "LDA",
              "NVDM"
            ],
            "_view_name": "DropdownView",
            "style": "IPY_MODEL_1bb80d9e398445f2bcdb4c5f1f635421",
            "_dom_classes": [],
            "description": "Model:",
            "_model_name": "DropdownModel",
            "index": 1,
            "_view_module": "@jupyter-widgets/controls",
            "_model_module_version": "1.5.0",
            "_view_count": null,
            "disabled": false,
            "_view_module_version": "1.5.0",
            "description_tooltip": null,
            "_model_module": "@jupyter-widgets/controls",
            "layout": "IPY_MODEL_7f89dfa7c290424bae4fcbbe46495523"
          }
        },
        "35c0037ef93d4b11b20efba9af829017": {
          "model_module": "@jupyter-widgets/controls",
          "model_name": "DropdownModel",
          "state": {
            "_options_labels": [
              "5",
              "10",
              "15",
              "20"
            ],
            "_view_name": "DropdownView",
            "style": "IPY_MODEL_2db639cd9e13446fa23ee9ca2ecaf840",
            "_dom_classes": [],
            "description": "Top N Words:",
            "_model_name": "DropdownModel",
            "index": 1,
            "_view_module": "@jupyter-widgets/controls",
            "_model_module_version": "1.5.0",
            "_view_count": null,
            "disabled": false,
            "_view_module_version": "1.5.0",
            "description_tooltip": null,
            "_model_module": "@jupyter-widgets/controls",
            "layout": "IPY_MODEL_0a2ad9ea1de14ce4a5abd4dbcb2b98a7"
          }
        },
        "cb381d55e6a641f9baaee4285f2fbfc9": {
          "model_module": "@jupyter-widgets/controls",
          "model_name": "ButtonModel",
          "state": {
            "_view_name": "ButtonView",
            "style": "IPY_MODEL_fd5e5a25ec884c43943d8b901d8a7ce5",
            "_dom_classes": [],
            "description": "Click here to run!",
            "_model_name": "ButtonModel",
            "button_style": "",
            "_view_module": "@jupyter-widgets/controls",
            "_model_module_version": "1.5.0",
            "tooltip": "",
            "_view_count": null,
            "disabled": false,
            "_view_module_version": "1.5.0",
            "layout": "IPY_MODEL_65b68b403a2a4106bb46b59663e5618b",
            "_model_module": "@jupyter-widgets/controls",
            "icon": ""
          }
        },
        "cfdee55747064e70b0d45e27aa7f804d": {
          "model_module": "@jupyter-widgets/output",
          "model_name": "OutputModel",
          "state": {
            "_view_name": "OutputView",
            "msg_id": "",
            "_dom_classes": [],
            "_model_name": "OutputModel",
            "outputs": [
              {
                "output_type": "display_data",
                "metadata": {
                  "tags": [],
                  "needs_background": "light"
                },
                "image/png": "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\n",
                "text/plain": "<Figure size 900x1152 with 20 Axes>"
              }
            ],
            "_view_module": "@jupyter-widgets/output",
            "_model_module_version": "1.0.0",
            "_view_count": null,
            "_view_module_version": "1.0.0",
            "layout": "IPY_MODEL_a095205dfcfd48e4a42e9a226c58aa68",
            "_model_module": "@jupyter-widgets/output"
          }
        },
        "1bb80d9e398445f2bcdb4c5f1f635421": {
          "model_module": "@jupyter-widgets/controls",
          "model_name": "DescriptionStyleModel",
          "state": {
            "_view_name": "StyleView",
            "_model_name": "DescriptionStyleModel",
            "description_width": "",
            "_view_module": "@jupyter-widgets/base",
            "_model_module_version": "1.5.0",
            "_view_count": null,
            "_view_module_version": "1.2.0",
            "_model_module": "@jupyter-widgets/controls"
          }
        },
        "7f89dfa7c290424bae4fcbbe46495523": {
          "model_module": "@jupyter-widgets/base",
          "model_name": "LayoutModel",
          "state": {
            "_view_name": "LayoutView",
            "grid_template_rows": null,
            "right": null,
            "justify_content": null,
            "_view_module": "@jupyter-widgets/base",
            "overflow": null,
            "_model_module_version": "1.2.0",
            "_view_count": null,
            "flex_flow": null,
            "width": null,
            "min_width": null,
            "border": null,
            "align_items": null,
            "bottom": null,
            "_model_module": "@jupyter-widgets/base",
            "top": null,
            "grid_column": null,
            "overflow_y": null,
            "overflow_x": null,
            "grid_auto_flow": null,
            "grid_area": null,
            "grid_template_columns": null,
            "flex": null,
            "_model_name": "LayoutModel",
            "justify_items": null,
            "grid_row": null,
            "max_height": null,
            "align_content": null,
            "visibility": null,
            "align_self": null,
            "height": null,
            "min_height": null,
            "padding": null,
            "grid_auto_rows": null,
            "grid_gap": null,
            "max_width": null,
            "order": null,
            "_view_module_version": "1.2.0",
            "grid_template_areas": null,
            "object_position": null,
            "object_fit": null,
            "grid_auto_columns": null,
            "margin": null,
            "display": null,
            "left": null
          }
        },
        "2db639cd9e13446fa23ee9ca2ecaf840": {
          "model_module": "@jupyter-widgets/controls",
          "model_name": "DescriptionStyleModel",
          "state": {
            "_view_name": "StyleView",
            "_model_name": "DescriptionStyleModel",
            "description_width": "",
            "_view_module": "@jupyter-widgets/base",
            "_model_module_version": "1.5.0",
            "_view_count": null,
            "_view_module_version": "1.2.0",
            "_model_module": "@jupyter-widgets/controls"
          }
        },
        "0a2ad9ea1de14ce4a5abd4dbcb2b98a7": {
          "model_module": "@jupyter-widgets/base",
          "model_name": "LayoutModel",
          "state": {
            "_view_name": "LayoutView",
            "grid_template_rows": null,
            "right": null,
            "justify_content": null,
            "_view_module": "@jupyter-widgets/base",
            "overflow": null,
            "_model_module_version": "1.2.0",
            "_view_count": null,
            "flex_flow": null,
            "width": null,
            "min_width": null,
            "border": null,
            "align_items": null,
            "bottom": null,
            "_model_module": "@jupyter-widgets/base",
            "top": null,
            "grid_column": null,
            "overflow_y": null,
            "overflow_x": null,
            "grid_auto_flow": null,
            "grid_area": null,
            "grid_template_columns": null,
            "flex": null,
            "_model_name": "LayoutModel",
            "justify_items": null,
            "grid_row": null,
            "max_height": null,
            "align_content": null,
            "visibility": null,
            "align_self": null,
            "height": null,
            "min_height": null,
            "padding": null,
            "grid_auto_rows": null,
            "grid_gap": null,
            "max_width": null,
            "order": null,
            "_view_module_version": "1.2.0",
            "grid_template_areas": null,
            "object_position": null,
            "object_fit": null,
            "grid_auto_columns": null,
            "margin": null,
            "display": null,
            "left": null
          }
        },
        "fd5e5a25ec884c43943d8b901d8a7ce5": {
          "model_module": "@jupyter-widgets/controls",
          "model_name": "ButtonStyleModel",
          "state": {
            "_view_name": "StyleView",
            "_model_name": "ButtonStyleModel",
            "_view_module": "@jupyter-widgets/base",
            "_model_module_version": "1.5.0",
            "_view_count": null,
            "button_color": null,
            "font_weight": "",
            "_view_module_version": "1.2.0",
            "_model_module": "@jupyter-widgets/controls"
          }
        },
        "65b68b403a2a4106bb46b59663e5618b": {
          "model_module": "@jupyter-widgets/base",
          "model_name": "LayoutModel",
          "state": {
            "_view_name": "LayoutView",
            "grid_template_rows": null,
            "right": null,
            "justify_content": null,
            "_view_module": "@jupyter-widgets/base",
            "overflow": null,
            "_model_module_version": "1.2.0",
            "_view_count": null,
            "flex_flow": null,
            "width": null,
            "min_width": null,
            "border": "solid",
            "align_items": null,
            "bottom": null,
            "_model_module": "@jupyter-widgets/base",
            "top": null,
            "grid_column": null,
            "overflow_y": null,
            "overflow_x": null,
            "grid_auto_flow": null,
            "grid_area": null,
            "grid_template_columns": null,
            "flex": null,
            "_model_name": "LayoutModel",
            "justify_items": null,
            "grid_row": null,
            "max_height": null,
            "align_content": null,
            "visibility": null,
            "align_self": null,
            "height": null,
            "min_height": null,
            "padding": null,
            "grid_auto_rows": null,
            "grid_gap": null,
            "max_width": null,
            "order": null,
            "_view_module_version": "1.2.0",
            "grid_template_areas": null,
            "object_position": null,
            "object_fit": null,
            "grid_auto_columns": null,
            "margin": null,
            "display": null,
            "left": null
          }
        },
        "a095205dfcfd48e4a42e9a226c58aa68": {
          "model_module": "@jupyter-widgets/base",
          "model_name": "LayoutModel",
          "state": {
            "_view_name": "LayoutView",
            "grid_template_rows": null,
            "right": null,
            "justify_content": null,
            "_view_module": "@jupyter-widgets/base",
            "overflow": null,
            "_model_module_version": "1.2.0",
            "_view_count": null,
            "flex_flow": null,
            "width": null,
            "min_width": null,
            "border": null,
            "align_items": null,
            "bottom": null,
            "_model_module": "@jupyter-widgets/base",
            "top": null,
            "grid_column": null,
            "overflow_y": null,
            "overflow_x": null,
            "grid_auto_flow": null,
            "grid_area": null,
            "grid_template_columns": null,
            "flex": null,
            "_model_name": "LayoutModel",
            "justify_items": null,
            "grid_row": null,
            "max_height": null,
            "align_content": null,
            "visibility": null,
            "align_self": null,
            "height": null,
            "min_height": null,
            "padding": null,
            "grid_auto_rows": null,
            "grid_gap": null,
            "max_width": null,
            "order": null,
            "_view_module_version": "1.2.0",
            "grid_template_areas": null,
            "object_position": null,
            "object_fit": null,
            "grid_auto_columns": null,
            "margin": null,
            "display": null,
            "left": null
          }
        }
      }
    }
  },
  "cells": [
    {
      "cell_type": "markdown",
      "metadata": {
        "id": "jVvrM6Wf4Rea"
      },
      "source": [
        "# Project Demo"
      ]
    },
    {
      "cell_type": "markdown",
      "metadata": {
        "id": "KDG6BuznAFZK"
      },
      "source": [
        "This is a demo notebook for the NLP Group Project."
      ]
    },
    {
      "cell_type": "markdown",
      "metadata": {
        "id": "Z5yFilTzTyKd"
      },
      "source": [
        "## Setup Code"
      ]
    },
    {
      "cell_type": "markdown",
      "metadata": {
        "id": "JfCg7UCu4UNe"
      },
      "source": [
        "### Download Files"
      ]
    },
    {
      "cell_type": "code",
      "metadata": {
        "colab": {
          "base_uri": "https://localhost:8080/"
        },
        "id": "EyiNVsTE4JaN",
        "outputId": "2d2b4a60-3ea4-4100-86aa-249451107f14"
      },
      "source": [
        "# Update packages\n",
        "# There might be some pip errors, but can be ignored.\n",
        "!pip install -q -U matplotlib==3.1.3 nltk numpy pandas scikit-learn scipy torch \n",
        "\n",
        "import pathlib\n",
        "\n",
        "# Models\n",
        "pathlib.Path(\"/content/modelsaves\").mkdir(parents=True, exist_ok=True)\n",
        "# kmeans, lda, nvdm respectively\n",
        "!gdown --id 1oqYBdnw8NeTx7m2wtOGx4-9jnspXMRci --output /content/modelsaves/kmeans.pickle\n",
        "!gdown --id 1ytjlO4F3W_MuSOG0QqLr5cjQbN0Z92ri --output /content/modelsaves/lda.pickle\n",
        "!gdown --id 1yBs969W7BNpekb7nlc9GUu4xsyEtTopr --output /content/modelsaves/nvdm.pt\n",
        "\n",
        "# Data (S&P500 then bds1)\n",
        "pathlib.Path(\"/content/data\").mkdir(parents=True, exist_ok=True)\n",
        "!gdown --id 16Uq_b8EtkTv_58upirW5oCTn63JFrMTa --output /content/data/sp500.zip\n",
        "!unzip -q /content/data/sp500.zip -d /content/data/\n",
        "!gdown --id 1Hhrv8F0HhP2hrL75nUQvwKuUQBXxxxrT --output /content/data/bds1.txt\n",
        "!gdown --id 1DkicvKLHe92qvyimB75hb_LvP2MVyYOr --output \"/content/data/S AND P.xlsx\"\n",
        "\n",
        "# NVDM definition\n",
        "pathlib.Path(\"/content/models\").mkdir(parents=True, exist_ok=True)\n",
        "!curl https://raw.githubusercontent.com/aaronfng/nlp-group-project/main/nvdm/models/nvdm.py > /content/models/nvdm.py"
      ],
      "execution_count": null,
      "outputs": [
        {
          "output_type": "stream",
          "text": [
            "\u001b[K     |████████████████████████████████| 13.1MB 304kB/s \n",
            "\u001b[K     |████████████████████████████████| 1.5MB 40.9MB/s \n",
            "\u001b[K     |████████████████████████████████| 15.3MB 232kB/s \n",
            "\u001b[K     |████████████████████████████████| 9.9MB 38.2MB/s \n",
            "\u001b[K     |████████████████████████████████| 22.3MB 2.1MB/s \n",
            "\u001b[K     |████████████████████████████████| 27.4MB 154kB/s \n",
            "\u001b[31mERROR: tensorflow 2.4.1 has requirement numpy~=1.19.2, but you'll have numpy 1.20.3 which is incompatible.\u001b[0m\n",
            "\u001b[31mERROR: google-colab 1.0.0 has requirement pandas~=1.1.0; python_version >= \"3.0\", but you'll have pandas 1.2.4 which is incompatible.\u001b[0m\n",
            "\u001b[31mERROR: datascience 0.10.6 has requirement folium==0.2.1, but you'll have folium 0.8.3 which is incompatible.\u001b[0m\n",
            "\u001b[31mERROR: albumentations 0.1.12 has requirement imgaug<0.2.7,>=0.2.5, but you'll have imgaug 0.2.9 which is incompatible.\u001b[0m\n",
            "\u001b[?25hDownloading...\n",
            "From: https://drive.google.com/uc?id=1oqYBdnw8NeTx7m2wtOGx4-9jnspXMRci\n",
            "To: /content/modelsaves/kmeans.pickle\n",
            "100% 648k/648k [00:00<00:00, 86.2MB/s]\n",
            "Downloading...\n",
            "From: https://drive.google.com/uc?id=1ytjlO4F3W_MuSOG0QqLr5cjQbN0Z92ri\n",
            "To: /content/modelsaves/lda.pickle\n",
            "100% 1.28M/1.28M [00:00<00:00, 58.5MB/s]\n",
            "Downloading...\n",
            "From: https://drive.google.com/uc?id=1yBs969W7BNpekb7nlc9GUu4xsyEtTopr\n",
            "To: /content/modelsaves/nvdm.pt\n",
            "68.6MB [00:00, 103MB/s] \n",
            "Downloading...\n",
            "From: https://drive.google.com/uc?id=16Uq_b8EtkTv_58upirW5oCTn63JFrMTa\n",
            "To: /content/data/sp500.zip\n",
            "8.82MB [00:00, 21.2MB/s]\n",
            "Downloading...\n",
            "From: https://drive.google.com/uc?id=1Hhrv8F0HhP2hrL75nUQvwKuUQBXxxxrT\n",
            "To: /content/data/bds1.txt\n",
            "135MB [00:01, 71.6MB/s]\n",
            "Downloading...\n",
            "From: https://drive.google.com/uc?id=1DkicvKLHe92qvyimB75hb_LvP2MVyYOr\n",
            "To: /content/data/S AND P.xlsx\n",
            "100% 49.8k/49.8k [00:00<00:00, 18.4MB/s]\n",
            "  % Total    % Received % Xferd  Average Speed   Time    Time     Time  Current\n",
            "                                 Dload  Upload   Total   Spent    Left  Speed\n",
            "100  5361  100  5361    0     0  28515      0 --:--:-- --:--:-- --:--:-- 28515\n"
          ],
          "name": "stdout"
        }
      ]
    },
    {
      "cell_type": "markdown",
      "metadata": {
        "id": "Ofe3EZoO8GTe"
      },
      "source": [
        "### Imports"
      ]
    },
    {
      "cell_type": "code",
      "metadata": {
        "colab": {
          "base_uri": "https://localhost:8080/"
        },
        "id": "wDe68wLL8GZT",
        "outputId": "8d54b377-9beb-43c8-cecb-15431e9c3b74"
      },
      "source": [
        "import os\n",
        "import string\n",
        "import pathlib\n",
        "import pickle\n",
        "\n",
        "from sklearn.feature_extraction.text import CountVectorizer\n",
        "from sklearn.decomposition import LatentDirichletAllocation\n",
        "from sklearn.cluster import KMeans\n",
        "\n",
        "# For preprocessing\n",
        "import nltk\n",
        "from nltk.corpus import stopwords\n",
        "from nltk.stem import WordNetLemmatizer\n",
        "nltk.download(\"stopwords\")\n",
        "nltk.download(\"wordnet\")\n",
        "\n",
        "import torch\n",
        "\n",
        "import numpy as np\n",
        "import pandas as pd\n",
        "import matplotlib.pyplot as plt\n",
        "\n",
        "# NVDM definition\n",
        "from models.nvdm import NVDM"
      ],
      "execution_count": null,
      "outputs": [
        {
          "output_type": "stream",
          "text": [
            "[nltk_data] Downloading package stopwords to /root/nltk_data...\n",
            "[nltk_data]   Unzipping corpora/stopwords.zip.\n",
            "[nltk_data] Downloading package wordnet to /root/nltk_data...\n",
            "[nltk_data]   Unzipping corpora/wordnet.zip.\n"
          ],
          "name": "stderr"
        }
      ]
    },
    {
      "cell_type": "markdown",
      "metadata": {
        "id": "J8vQeh2m79aU"
      },
      "source": [
        "### Preprocessing"
      ]
    },
    {
      "cell_type": "code",
      "metadata": {
        "id": "Hkk36jtE79gW"
      },
      "source": [
        "# Instance of Lemmatizer\n",
        "LEMMATIZER = WordNetLemmatizer()\n",
        "STOPWORDS = stopwords.words('english')\n",
        "\n",
        "def preprocess_text(text):\n",
        "    \"\"\" Process a single line of text. \"\"\"\n",
        "\n",
        "    # Strip trailing characters if any (e.g. newline)\n",
        "    text_new = text.strip()\n",
        "    \n",
        "    # Remove puncuation\n",
        "    text_new = ''.join(ch for ch in text_new if ch not in string.punctuation)\n",
        "\n",
        "    # Lower case\n",
        "    text_new = text_new.lower()\n",
        "    \n",
        "    # Tokenise by space\n",
        "    tokens = text_new.split()\n",
        "    \n",
        "    # Remove stopwords\n",
        "    tokens = [word for word in tokens if word not in STOPWORDS]\n",
        "\n",
        "    # Lemmatise each word\n",
        "    tokens = [LEMMATIZER.lemmatize(word) for word in tokens]\n",
        "    \n",
        "    text_new = ' '.join(tokens)\n",
        "\n",
        "    return text_new"
      ],
      "execution_count": null,
      "outputs": []
    },
    {
      "cell_type": "markdown",
      "metadata": {
        "id": "laRfDqIX5AM7"
      },
      "source": [
        "### Data-Loading Functions"
      ]
    },
    {
      "cell_type": "code",
      "metadata": {
        "id": "JvkZLk3Z4_ii"
      },
      "source": [
        "def load_sp500(path, preprocess=False):\n",
        "    \"\"\" Load S&P500 data from the per-company text files in the supplied directory path.\n",
        "    \n",
        "    Within the directory, each file is named \"<ticker>_<sector>.txt\".\n",
        "    Each contains the business description (BD) of the company.\n",
        "    \n",
        "    If preprocess is True, the preprocess the business descriptions at the same time.\n",
        "    \"\"\"\n",
        "    filenames = os.listdir(path)\n",
        "\n",
        "    tickers = []\n",
        "    sectors = []\n",
        "    bds = []\n",
        "    for fn in filenames:\n",
        "        prefix = fn.split('.txt')[0]\n",
        "        ticker, sector = prefix.split('_')\n",
        "        filepath = os.path.join(path, fn)\n",
        "        with open(filepath, 'r', encoding=\"utf8\") as f:\n",
        "            bd = f.read().strip()\n",
        "        \n",
        "        if preprocess:\n",
        "            bd = preprocess_text(bd)\n",
        "\n",
        "        tickers.append(ticker)\n",
        "        sectors.append(sector)\n",
        "        bds.append(bd)\n",
        "    \n",
        "    return tickers, sectors, bds\n",
        "\n",
        "def load_bds1(path, preprocess=False, exclude_tickers=None):\n",
        "    \"\"\" Load data from the business data, given the file path (e.g. \"data/bds_1.txt\").\n",
        "    \n",
        "    In the file, each company has two consecutive lines.\n",
        "    The first line is <company ticker>:<CIK> (we only care about the ticker)\n",
        "    and the second line is the company business description.\n",
        "    \n",
        "    exclude_tickers is a list of tickers that we want to ignore in bds_1.txt.\n",
        "    For example, we can use this to exclude any S&P500 companies to avoid\n",
        "    overlapping of datasets.\n",
        "    \"\"\"\n",
        "    \n",
        "    with open(path, \"r\", encoding=\"utf8\") as f:\n",
        "        lines = f.readlines()\n",
        "\n",
        "    company_ids_all = [ln.strip() for ln in lines[0::2]]\n",
        "    company_descriptions_all = [ln.strip() for ln in lines[1::2]]\n",
        "    company_tickers = [x.split(':')[0] for x in company_ids_all]\n",
        "\n",
        "    exclusion_set = set(exclude_tickers) if exclude_tickers is not None else set()\n",
        "\n",
        "    tickers = []\n",
        "    bds = []\n",
        "    \n",
        "    # Some business descriptions are too short (or even empty),\n",
        "    # so we only keep those with a length (number of characters) deemed reasonable.\n",
        "    bd_valid_length = 3000\n",
        "    for ticker, bd in zip(company_tickers, company_descriptions_all):\n",
        "        if ticker not in exclusion_set and len(bd) >= bd_valid_length:\n",
        "            tickers.append(ticker)\n",
        "            \n",
        "            if preprocess:\n",
        "                bd = preprocess_text(bd)\n",
        "            bds.append(bd)\n",
        "    \n",
        "    return tickers, bds\n",
        "\n",
        "\n",
        "def load_ticker_name(filepath):\n",
        "    \"\"\" Load a dictionary that converts tickers to security names.\n",
        "    \n",
        "    e.g. ticker_to_name[\"MSFT\"] = \"Microsoft Corp.\"\n",
        "\n",
        "    This improves interpretability in the interactive demo:\n",
        "    we can see the actual company English name instead of just its symbol.\n",
        "    \"\"\"\n",
        "    # Company information (ticker, name, industry sector etc.)\n",
        "    company_df = pd.read_excel(filepath)\n",
        "    ticker_names = company_df[['Symbol', 'Security']].to_dict(orient='records')\n",
        "    ticker_to_name = dict()\n",
        "\n",
        "    for item in ticker_names:\n",
        "        ticker = item['Symbol']\n",
        "        name = item['Security']\n",
        "\n",
        "        ticker_to_name[ticker] = name\n",
        "    \n",
        "    return ticker_to_name"
      ],
      "execution_count": null,
      "outputs": []
    },
    {
      "cell_type": "markdown",
      "metadata": {
        "id": "hpHGde_B55bW"
      },
      "source": [
        "### Model Definitions\n",
        "\n",
        "Below are wrappers for K-Means, LDA and NVDM. They load model that we have trained locally."
      ]
    },
    {
      "cell_type": "code",
      "metadata": {
        "id": "B0bVv2-459NT"
      },
      "source": [
        "class ModelWrapper:\n",
        "    \"\"\" Base class for clustering models.\n",
        "    \n",
        "    Basically a wrapper for a variety of models.\n",
        "    \"\"\"\n",
        "    def __init__(self):\n",
        "        pass\n",
        "    \n",
        "    def transform(self, X):\n",
        "        \"\"\" Apply model to new data.\n",
        "        \n",
        "        Should output a topic-document matrix,\n",
        "        where each element is a score indicating how likely the document\n",
        "        should be assigned to the topic.\n",
        "        For sklearn LDA, transform() does this by default.\n",
        "        \"\"\"\n",
        "        raise NotImplementedError()\n",
        "\n",
        "    @property\n",
        "    def topic_vocab_matrix(self):\n",
        "        \"\"\" Each model should be able to return a topic-vocab matrix\n",
        "        containing a score (e.g. probability) of a word in the vocabulary\n",
        "        occuring in the k^th topic. \"\"\"\n",
        "        pass\n",
        "\n",
        "    \n",
        "class KMeansModel(ModelWrapper):\n",
        "    \"\"\" Wrapper for scikit-learn KMeans. \"\"\"\n",
        "    def __init__(self, path):\n",
        "        with open(path, \"rb\") as f:\n",
        "            self.model = pickle.load(f)\n",
        "\n",
        "    def transform(self, X):\n",
        "        \"\"\" Returns a topic-document matrix of distances per cluster. \"\"\"\n",
        "        # Negate because the model outputs distances per cluster.\n",
        "        # Smaller distances mean more likely topic assignment,\n",
        "        # so we want to negate that to be consistent with the other two models.\n",
        "        return -1 * self.model.transform(X)\n",
        "    \n",
        "    @property\n",
        "    def topic_vocab_matrix(self):\n",
        "        \"\"\" Return K-Means clusters.\n",
        "        \n",
        "        ndarray of shape (num_topics, n_features)\n",
        "        \"\"\"\n",
        "        return self.model.cluster_centers_\n",
        "\n",
        "\n",
        "class LDAModel(ModelWrapper):\n",
        "    \"\"\" Wrapper for scikit-learn LDA. \"\"\"\n",
        "    def __init__(self, path):\n",
        "        with open(path, \"rb\") as f:\n",
        "            self.model = pickle.load(f)\n",
        "    \n",
        "    def transform(self, X):\n",
        "        \"\"\" Returns a topic-document matrix of probabilities. \"\"\"\n",
        "        return self.model.transform(X) \n",
        "    \n",
        "    @property\n",
        "    def topic_vocab_matrix(self):\n",
        "        \"\"\" Gets the components_ attribute of LDA, normalized\n",
        "        \n",
        "        Quoting sklearn docs:\n",
        "        Variational parameters for topic word distribution.\n",
        "        Since the complete conditional for topic word distribution is a Dirichlet,\n",
        "        components_[i, j] can be viewed as pseudocount that represents\n",
        "        the number of times word j was assigned to topic i.\n",
        "        It can also be viewed as distribution over the words for each topic after normalization:\n",
        "        model.components_ / model.components_.sum(axis=1)[:, np.newaxis].\n",
        "        \"\"\"\n",
        "        # return self.model.components_\n",
        "        return self.model.components_ / self.model.components_.sum(axis=1)[:, np.newaxis]\n",
        "\n",
        "class NVDMModel(ModelWrapper):\n",
        "    \"\"\" PyTorch NVDM model.\n",
        "    \n",
        "    Loads a pretrained model from disk.\n",
        "    \"\"\"\n",
        "    def __init__(self, model_path):\n",
        "        model = torch.load(model_path, map_location=torch.device('cpu'))        \n",
        "        model.device = \"cpu\"\n",
        "        model = model.cpu()\n",
        "        model.eval()\n",
        "        \n",
        "        self.model = model\n",
        "\n",
        "        decoder = self.model.decoder[0]\n",
        "        weights = decoder.weight.data.detach().clone().cpu().numpy()\n",
        "        self.topic_vocab = weights.T\n",
        "    \n",
        "    def transform(self, X):\n",
        "        \"\"\" Output a topic-document matrix. \"\"\"\n",
        "        n_doc, n_vocab = X.shape\n",
        "        n_topic = self.topic_vocab.shape[0]\n",
        "        \n",
        "        # shape (n_doc, n_topic)\n",
        "        # Score of each document for a topic is the average scores\n",
        "        # of the document's words in the topic.\n",
        "        topic_doc = X @ self.topic_vocab.T\n",
        "        \n",
        "        # Optionally, normalize by document length.\n",
        "        topic_doc = topic_doc / X.sum(axis=1, keepdims=True)\n",
        "        \n",
        "        return topic_doc\n",
        "    \n",
        "    @property\n",
        "    def topic_vocab_matrix(self):\n",
        "        \"\"\" Returns the learned semantic embeddings of each word. \"\"\"\n",
        "        return self.topic_vocab\n"
      ],
      "execution_count": null,
      "outputs": []
    },
    {
      "cell_type": "markdown",
      "metadata": {
        "id": "9BbgNs2f7CbZ"
      },
      "source": [
        "### Data setup"
      ]
    },
    {
      "cell_type": "code",
      "metadata": {
        "id": "nBPCjH8r6tx6"
      },
      "source": [
        "# LOAD DATA + PREPROCESSING\n",
        "# (this can take minutes because preprocessing is slow.)\n",
        "sp500_tickers, sp500_sectors, sp500_bds = load_sp500(\"/content/data/SP500\", preprocess=True)\n",
        "bds1_tickers, bds1_bds = load_bds1(\"/content/data/bds1.txt\", preprocess=True, exclude_tickers=sp500_tickers)"
      ],
      "execution_count": null,
      "outputs": []
    },
    {
      "cell_type": "code",
      "metadata": {
        "colab": {
          "base_uri": "https://localhost:8080/"
        },
        "id": "tQr52EDo89wL",
        "outputId": "4ef001a3-ed66-4cb2-ce92-058187746025"
      },
      "source": [
        "# FEATURE EXTRACTION\n",
        "# Use this to convert text to a Bag-of-Words (term-frequency) representation.\n",
        "# We used the larger BDS1 dataset as the training set when we trained our models,\n",
        "# so we fit the CountVectorizer to BDS1 instead of S&P500.\n",
        "n_features = 4000\n",
        "tf_vectorizer = CountVectorizer(max_features=n_features, max_df=0.95, min_df=2)\n",
        "tf_vectorizer.fit(bds1_bds)"
      ],
      "execution_count": null,
      "outputs": [
        {
          "output_type": "execute_result",
          "data": {
            "text/plain": [
              "CountVectorizer(max_df=0.95, max_features=4000, min_df=2)"
            ]
          },
          "metadata": {
            "tags": []
          },
          "execution_count": 7
        }
      ]
    },
    {
      "cell_type": "code",
      "metadata": {
        "colab": {
          "base_uri": "https://localhost:8080/"
        },
        "id": "fSlPMUNzAeiH",
        "outputId": "76a46636-dada-493d-ec24-8b12a4465aff"
      },
      "source": [
        "# FEATURE EXTRACTION 2\n",
        "# Convert SP500 data to bag-of-words representations.\n",
        "X_sp500 = tf_vectorizer.transform(sp500_bds).toarray()\n",
        "X_sp500.shape"
      ],
      "execution_count": null,
      "outputs": [
        {
          "output_type": "execute_result",
          "data": {
            "text/plain": [
              "(503, 4000)"
            ]
          },
          "metadata": {
            "tags": []
          },
          "execution_count": 8
        }
      ]
    },
    {
      "cell_type": "code",
      "metadata": {
        "colab": {
          "base_uri": "https://localhost:8080/"
        },
        "id": "UFF8HZMn9rk0",
        "outputId": "0568194e-efee-44ce-9b3f-efb0e3ef29b3"
      },
      "source": [
        "# LOAD MODELS\n",
        "# (Pickle might give a UserWarning due to scikit-learn version differences, but can be safely ignored.)\n",
        "kmeans = KMeansModel(\"/content/modelsaves/kmeans.pickle\")\n",
        "lda = LDAModel(\"/content/modelsaves/lda.pickle\")\n",
        "nvdm = NVDMModel(\"/content/modelsaves/nvdm.pt\")\n",
        "\n",
        "# Print model details\n",
        "print(type(kmeans.model))\n",
        "print(type(lda.model))\n",
        "print(nvdm.model)"
      ],
      "execution_count": null,
      "outputs": [
        {
          "output_type": "stream",
          "text": [
            "<class 'sklearn.cluster._kmeans.KMeans'>\n",
            "<class 'sklearn.decomposition._lda.LatentDirichletAllocation'>\n",
            "NVDM(\n",
            "  (embed_bow): EmbeddingBag(4000, 4000, mode=sum)\n",
            "  (encoder): Sequential(\n",
            "    (0): Linear(in_features=4000, out_features=250, bias=True)\n",
            "    (1): Tanh()\n",
            "    (2): Linear(in_features=250, out_features=250, bias=True)\n",
            "    (3): Tanh()\n",
            "  )\n",
            "  (mu): Linear(in_features=250, out_features=20, bias=True)\n",
            "  (log_sigma): Linear(in_features=250, out_features=20, bias=True)\n",
            "  (decoder): Sequential(\n",
            "    (0): Linear(in_features=20, out_features=4000, bias=True)\n",
            "  )\n",
            ")\n"
          ],
          "name": "stdout"
        },
        {
          "output_type": "stream",
          "text": [
            "/usr/local/lib/python3.7/dist-packages/sklearn/base.py:315: UserWarning: Trying to unpickle estimator KMeans from version 0.23.2 when using version 0.24.2. This might lead to breaking code or invalid results. Use at your own risk.\n",
            "  UserWarning)\n",
            "/usr/local/lib/python3.7/dist-packages/sklearn/base.py:315: UserWarning: Trying to unpickle estimator LatentDirichletAllocation from version 0.23.2 when using version 0.24.2. This might lead to breaking code or invalid results. Use at your own risk.\n",
            "  UserWarning)\n"
          ],
          "name": "stderr"
        }
      ]
    },
    {
      "cell_type": "markdown",
      "metadata": {
        "id": "UbrRSvO7BXUG"
      },
      "source": [
        "## Interactive Demo"
      ]
    },
    {
      "cell_type": "markdown",
      "metadata": {
        "id": "RiidH41VUBcZ"
      },
      "source": [
        "In this section, we allow the user to input custom test data.\n",
        "\n",
        "When prompted do the following:\n",
        "\n",
        "1. Choose the model (K-Means, LDA or NVDM) in the dropdown menu.\n",
        "2. Input an arbitrary business description in English into the textbox. For example, you can choose any company and copy-and-paste\n",
        "the introductory paragraph(s) from its Wikipedia entry.\n",
        "3. Click the button to run topic assignment.\n",
        "\n",
        "The demo will choose the best topic assignment according to the model. It will output a handful of S&P500 companies that were also assigned to the same topic.\n",
        "\n",
        "As a starting point, you can use the following Wikipedia description of [Novartis](https://en.wikipedia.org/wiki/Novartis), an arbitrarily chosen pharmaceutical company:\n",
        "\n",
        "> Novartis International AG is a Swiss multinational pharmaceutical company based in Basel, Switzerland. It is one of the largest pharmaceutical companies in the world.\n",
        "Novartis manufactures the drugs clozapine (Clozaril), diclofenac (Voltaren)(sold to Glaxo Smith Kline in 2015 deal), carbamazepine (Tegretol), valsartan (Diovan), imatinib mesylate (Gleevec/Glivec), cyclosporine (Neoral/Sandimmune), letrozole (Femara), methylphenidate (Ritalin) (production ceased 2020), terbinafine (Lamisil), deferasirox (Exjade), and others.\n",
        "In March 1996, Ciba-Geigy merged with Sandoz; the pharmaceutical and agrochemical divisions of both companies formed Novartis as an independent entity. Other Ciba-Geigy and Sandoz businesses were sold, or, like Ciba Specialty Chemicals, spun off as independent companies. The Sandoz brand disappeared for three years, but was revived in 2003 when Novartis consolidated its generic drugs businesses into a single subsidiary and named it Sandoz. Novartis divested its agrochemical and genetically modified crops business in 2000 with the spinout of Syngenta in partnership with AstraZeneca, which also divested its agrochemical business.\n",
        "Novartis is a full member of the European Federation of Pharmaceutical Industries and Associations (EFPIA),[4] the International Federation of Pharmaceutical Manufacturers and Associations (IFPMA),[5] and the Pharmaceutical Research and Manufacturers of America (PhRMA).[6]"
      ]
    },
    {
      "cell_type": "code",
      "metadata": {
        "id": "Rp6N2fi-FMWj"
      },
      "source": [
        "import ipywidgets as widgets"
      ],
      "execution_count": null,
      "outputs": []
    },
    {
      "cell_type": "code",
      "metadata": {
        "id": "eKPbH3v-BFsw"
      },
      "source": [
        "# Dictionary that converts symbols to names for better readability\n",
        "ticker_to_name = load_ticker_name(\"/content/data/S AND P.xlsx\")\n",
        "\n",
        "def interactive_demo(model: ModelWrapper, text: str):\n",
        "    \"\"\" Run an interactive demo session with the given model. \"\"\"\n",
        "\n",
        "    test_bd = text\n",
        "    test_bd = preprocess_text(test_bd)\n",
        "    X_test = tf_vectorizer.transform([test_bd]).toarray()\n",
        "\n",
        "    test_scores = model.transform(X_test)\n",
        "\n",
        "    test_topic = test_scores.argmax()\n",
        "\n",
        "    # Compute best topic assignments for all companies in S&P500\n",
        "    all_scores = model.transform(X_sp500)\n",
        "    topic_per_company = all_scores.argmax(axis=1)\n",
        "    groups = dict((i, []) for i in range(len(topic_per_company)))\n",
        "    for company_idx in range(len(topic_per_company)):\n",
        "        topic = topic_per_company[company_idx]\n",
        "        score = all_scores[company_idx, topic]\n",
        "        groups[topic].append((company_idx, score))\n",
        "\n",
        "    # Print S&P500 companies that are in the custom company's group (topic assignment)\n",
        "    # Sort by relevance score as well\n",
        "    results = []\n",
        "    group = groups[test_topic]\n",
        "    group.sort(key=lambda x: -x[1])\n",
        "    for item in group:\n",
        "        i, score = item\n",
        "        results.append((sp500_tickers[i], ticker_to_name.get(sp500_tickers[i]), sp500_sectors[i]))\n",
        "    \n",
        "    # Put it in a pandas dataframe just because printing looks better\n",
        "    df = pd.DataFrame.from_records(results, columns=[\"Symbol\", \"Name\", \"Sector\"])\n",
        "    return test_topic, df"
      ],
      "execution_count": null,
      "outputs": []
    },
    {
      "cell_type": "code",
      "metadata": {
        "colab": {
          "base_uri": "https://localhost:8080/",
          "height": 425,
          "referenced_widgets": [
            "92a3542518644adabaee0806e718f215",
            "e2d59c8945d740da95101ba69a0b67fd",
            "8adcc39e812848fdba0afe83a9e53488",
            "b584863786cf4dd48be2af80ed6bccc6",
            "59c3eb1a81624bc1840227327dfd27b1",
            "e75c2090f364425898194207bece55e8",
            "94cc1ec6965a4f8f92ab29ecde024c94",
            "1b660ecc95c84b31a59cc9ab0520d811",
            "a7d40cc2c2c14899ad82c0bcb9d0dd45",
            "a8d6a6d98bfd40849df4ce8981a634df",
            "4ac4fb75550b46a39c7158e99af165ab",
            "8c6229e7722c4c9f80526fd174629109",
            "d34fe4e3bc9946d7a5b942372cceb8ff"
          ]
        },
        "id": "SOFqtduVMgAV",
        "outputId": "eb3137c1-ed5e-4174-a5b2-df7e45b76ac1"
      },
      "source": [
        "# GUI definitions\n",
        "\n",
        "dropdown_model1 = widgets.Dropdown(\n",
        "    options=[('K-Means', kmeans), ('LDA', lda), ('NVDM', nvdm)],\n",
        "    value=lda,\n",
        "    description='Model:'\n",
        ")\n",
        "text_input1 = widgets.Textarea(\n",
        "    value='',\n",
        "    placeholder='Type business description here...',\n",
        "    description='Description:',\n",
        "    disabled=False,\n",
        "    layout={'width': '50%'}\n",
        ")\n",
        "button1 = widgets.Button(\n",
        "    description='Click here to run!',\n",
        "    layout={'border': 'solid'}\n",
        ")\n",
        "\n",
        "text_output1 = widgets.Output()\n",
        "\n",
        "def button_callback1(x):\n",
        "    \"\"\" Run the demo when button is clicked. \"\"\"\n",
        "    topic, df = interactive_demo(dropdown_model1.value, text_input1.value)\n",
        "    text_output1.clear_output()\n",
        "    with text_output1:\n",
        "        print(f\"Your company was assigned to topic {topic}.\")\n",
        "        print(\"Other companies with the same topic assignment:\")\n",
        "        print(df.head(20))\n",
        "\n",
        "button1.on_click(button_callback1)\n",
        "widgets.VBox((dropdown_model1, text_input1, button1, text_output1))\n",
        "\n",
        "### INTERACTIVE MENU WILL SHOW UP BELOW"
      ],
      "execution_count": null,
      "outputs": [
        {
          "output_type": "display_data",
          "data": {
            "application/vnd.jupyter.widget-view+json": {
              "model_id": "92a3542518644adabaee0806e718f215",
              "version_minor": 0,
              "version_major": 2
            },
            "text/plain": [
              "VBox(children=(Dropdown(description='Model:', index=1, options=(('K-Means', <__main__.KMeansModel object at 0x…"
            ]
          },
          "metadata": {
            "tags": []
          }
        }
      ]
    },
    {
      "cell_type": "markdown",
      "metadata": {
        "id": "V19xJT27YOkT"
      },
      "source": [
        "## Visualise Topics"
      ]
    },
    {
      "cell_type": "markdown",
      "metadata": {
        "id": "XEyQ8P6SYRuB"
      },
      "source": [
        "In this section you can visualise the learnt topics for each model.\n",
        "We plot each topic and its corresponding most important words.\n",
        "\n",
        "Below, you can choose the model in the dropdown and the top number of words to show per topic. It may take a few seconds to run after clicking the Run button."
      ]
    },
    {
      "cell_type": "code",
      "metadata": {
        "id": "5aaC6Jf6CWs2"
      },
      "source": [
        "def plot_top_words(topic_vocab, feature_names, n_top_words, title):\n",
        "    \"\"\" Given a topic-vocabulary matrix containing scores\n",
        "    (e.g. probabilities, higher the better),\n",
        "    plot the top words as a frequency bar-graph for each topic.\n",
        "    \n",
        "    e.g. set topic_vocab=model._components for LDA.\n",
        "    \"\"\"\n",
        "    K = len(topic_vocab)\n",
        "    n_x = 5\n",
        "    n_y = int(np.ceil(K / n_x))\n",
        "    fig, axes = plt.subplots(n_y, n_x, figsize=(2.5 * n_x, 4 * n_y), sharex=True)\n",
        "    axes = axes.flatten()\n",
        "    for topic_idx, topic in enumerate(topic_vocab):\n",
        "        top_features_ind = topic.argsort()[:-n_top_words - 1:-1]\n",
        "        top_features = [feature_names[i] for i in top_features_ind]\n",
        "        weights = topic[top_features_ind]\n",
        "\n",
        "        ax = axes[topic_idx]\n",
        "        ax.barh(top_features, weights, height=0.7)\n",
        "        ax.set_title(f'Topic {topic_idx +1}',\n",
        "                     fontdict={'fontsize': 14})\n",
        "        ax.invert_yaxis()\n",
        "        ax.tick_params(axis='both', which='major', labelsize=12)\n",
        "        for i in 'top right left'.split():\n",
        "            ax.spines[i].set_visible(False)\n",
        "        #fig.suptitle(title, fontsize=20)\n",
        "    \n",
        "    fig.tight_layout()\n",
        "    plt.show()"
      ],
      "execution_count": null,
      "outputs": []
    },
    {
      "cell_type": "code",
      "metadata": {
        "colab": {
          "base_uri": "https://localhost:8080/",
          "height": 1000,
          "referenced_widgets": [
            "168941306d574ba9bb44c76bbd3a5ae8",
            "dd480f493a9d4a70910feada3ee20ba3",
            "515827b82a1c47a99c9274d6fd5995e8",
            "35c0037ef93d4b11b20efba9af829017",
            "cb381d55e6a641f9baaee4285f2fbfc9",
            "cfdee55747064e70b0d45e27aa7f804d",
            "1bb80d9e398445f2bcdb4c5f1f635421",
            "7f89dfa7c290424bae4fcbbe46495523",
            "2db639cd9e13446fa23ee9ca2ecaf840",
            "0a2ad9ea1de14ce4a5abd4dbcb2b98a7",
            "fd5e5a25ec884c43943d8b901d8a7ce5",
            "65b68b403a2a4106bb46b59663e5618b",
            "a095205dfcfd48e4a42e9a226c58aa68"
          ]
        },
        "id": "woqaYiXtYWb_",
        "outputId": "c618d09e-f74e-4d9f-c338-459140f7e5e7"
      },
      "source": [
        "# GUI definitions\n",
        "\n",
        "dropdown_model2 = widgets.Dropdown(\n",
        "    options=[('K-Means', kmeans), ('LDA', lda), ('NVDM', nvdm)],\n",
        "    value=lda,\n",
        "    description='Model:'\n",
        ")\n",
        "\n",
        "dropdown_topn = widgets.Dropdown(\n",
        "    options=[5, 10, 15, 20],\n",
        "    value=10,\n",
        "    description='Top N Words:'\n",
        ")\n",
        "\n",
        "button2 = widgets.Button(\n",
        "    description='Click here to run!',\n",
        "    layout={'border': 'solid'}\n",
        ")\n",
        "\n",
        "text_output2 = widgets.Output()\n",
        "\n",
        "def button_callback2(x):\n",
        "    \"\"\" Run the demo when button is clicked. \"\"\"\n",
        "    model = dropdown_model2.value\n",
        "    n = dropdown_topn.value\n",
        "    text_output2.clear_output()\n",
        "    with text_output2:\n",
        "        plot_top_words(model.topic_vocab_matrix, tf_vectorizer.get_feature_names(), n, \"K-Means\")\n",
        "\n",
        "button2.on_click(button_callback2)\n",
        "widgets.VBox((dropdown_model2, dropdown_topn, button2, text_output2))\n",
        "\n",
        "### INTERACTIVE MENU WILL SHOW UP BELOW\n",
        "# NOTE: each run could take a few seconds."
      ],
      "execution_count": null,
      "outputs": [
        {
          "output_type": "display_data",
          "data": {
            "application/vnd.jupyter.widget-view+json": {
              "model_id": "168941306d574ba9bb44c76bbd3a5ae8",
              "version_minor": 0,
              "version_major": 2
            },
            "text/plain": [
              "VBox(children=(Dropdown(description='Model:', index=1, options=(('K-Means', <__main__.KMeansModel object at 0x…"
            ]
          },
          "metadata": {
            "tags": []
          }
        }
      ]
    },
    {
      "cell_type": "code",
      "metadata": {
        "id": "La2f6OI9Yko0"
      },
      "source": [
        ""
      ],
      "execution_count": null,
      "outputs": []
    }
  ]
}